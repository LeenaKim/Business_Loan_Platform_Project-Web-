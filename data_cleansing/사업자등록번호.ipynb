{
 "cells": [
  {
   "cell_type": "markdown",
   "metadata": {},
   "source": [
    "# 재무제표 기업코드 대신 사업자등록번호 칼럼으로 넣기"
   ]
  },
  {
   "cell_type": "markdown",
   "metadata": {},
   "source": [
    "## 손익계산서"
   ]
  },
  {
   "cell_type": "code",
   "execution_count": 1,
   "metadata": {},
   "outputs": [],
   "source": [
    "import pandas as pd"
   ]
  },
  {
   "cell_type": "code",
   "execution_count": 51,
   "metadata": {},
   "outputs": [],
   "source": [
    "import re"
   ]
  },
  {
   "cell_type": "code",
   "execution_count": 31,
   "metadata": {},
   "outputs": [],
   "source": [
    "icm_stmt = pd.read_excel('/Users/linakim/Desktop/최종프로젝트/데이터_가공/손익계산서/손익계산서_v3.xlsx',\n",
    "                        dtype={'기업코드':str, '회차' : str, '등록일' : str, '수익(매출액)':float, \n",
    "                               '영업이익(손실)':float, '당기순이익(손실)':float},\n",
    "                        index=False)"
   ]
  },
  {
   "cell_type": "code",
   "execution_count": 32,
   "metadata": {},
   "outputs": [
    {
     "data": {
      "text/html": [
       "<div>\n",
       "<style scoped>\n",
       "    .dataframe tbody tr th:only-of-type {\n",
       "        vertical-align: middle;\n",
       "    }\n",
       "\n",
       "    .dataframe tbody tr th {\n",
       "        vertical-align: top;\n",
       "    }\n",
       "\n",
       "    .dataframe thead th {\n",
       "        text-align: right;\n",
       "    }\n",
       "</style>\n",
       "<table border=\"1\" class=\"dataframe\">\n",
       "  <thead>\n",
       "    <tr style=\"text-align: right;\">\n",
       "      <th></th>\n",
       "      <th>Unnamed: 0</th>\n",
       "      <th>Unnamed: 0.1</th>\n",
       "      <th>기업코드</th>\n",
       "      <th>회차</th>\n",
       "      <th>등록일</th>\n",
       "      <th>수익(매출액)</th>\n",
       "      <th>영업이익(손실)</th>\n",
       "      <th>당기순이익(손실)</th>\n",
       "    </tr>\n",
       "  </thead>\n",
       "  <tbody>\n",
       "    <tr>\n",
       "      <th>0</th>\n",
       "      <td>0</td>\n",
       "      <td>0</td>\n",
       "      <td>00956028</td>\n",
       "      <td>제 16 기</td>\n",
       "      <td>20180420</td>\n",
       "      <td>24347218.0</td>\n",
       "      <td>1.203810e+05</td>\n",
       "      <td>-1.629679e+06</td>\n",
       "    </tr>\n",
       "    <tr>\n",
       "      <th>1</th>\n",
       "      <td>1</td>\n",
       "      <td>1</td>\n",
       "      <td>01165739</td>\n",
       "      <td>제 3 기</td>\n",
       "      <td>20180430</td>\n",
       "      <td>NaN</td>\n",
       "      <td>-3.982045e+06</td>\n",
       "      <td>-1.386465e+07</td>\n",
       "    </tr>\n",
       "    <tr>\n",
       "      <th>2</th>\n",
       "      <td>2</td>\n",
       "      <td>2</td>\n",
       "      <td>00171636</td>\n",
       "      <td>제 53 기</td>\n",
       "      <td>20180402</td>\n",
       "      <td>NaN</td>\n",
       "      <td>1.495268e+10</td>\n",
       "      <td>-1.436855e+11</td>\n",
       "    </tr>\n",
       "    <tr>\n",
       "      <th>3</th>\n",
       "      <td>3</td>\n",
       "      <td>3</td>\n",
       "      <td>00147772</td>\n",
       "      <td>제 49 기</td>\n",
       "      <td>20180330</td>\n",
       "      <td>NaN</td>\n",
       "      <td>NaN</td>\n",
       "      <td>NaN</td>\n",
       "    </tr>\n",
       "    <tr>\n",
       "      <th>4</th>\n",
       "      <td>4</td>\n",
       "      <td>4</td>\n",
       "      <td>00273110</td>\n",
       "      <td>제 29 기</td>\n",
       "      <td>20180402</td>\n",
       "      <td>NaN</td>\n",
       "      <td>-8.455347e+09</td>\n",
       "      <td>-1.079760e+10</td>\n",
       "    </tr>\n",
       "  </tbody>\n",
       "</table>\n",
       "</div>"
      ],
      "text/plain": [
       "   Unnamed: 0  Unnamed: 0.1      기업코드      회차       등록일     수익(매출액)  \\\n",
       "0           0             0  00956028  제 16 기  20180420  24347218.0   \n",
       "1           1             1  01165739   제 3 기  20180430         NaN   \n",
       "2           2             2  00171636  제 53 기  20180402         NaN   \n",
       "3           3             3  00147772  제 49 기  20180330         NaN   \n",
       "4           4             4  00273110  제 29 기  20180402         NaN   \n",
       "\n",
       "       영업이익(손실)     당기순이익(손실)  \n",
       "0  1.203810e+05 -1.629679e+06  \n",
       "1 -3.982045e+06 -1.386465e+07  \n",
       "2  1.495268e+10 -1.436855e+11  \n",
       "3           NaN           NaN  \n",
       "4 -8.455347e+09 -1.079760e+10  "
      ]
     },
     "execution_count": 32,
     "metadata": {},
     "output_type": "execute_result"
    }
   ],
   "source": [
    "icm_stmt.head()"
   ]
  },
  {
   "cell_type": "code",
   "execution_count": 25,
   "metadata": {},
   "outputs": [],
   "source": [
    "corp = pd.read_excel('/Users/linakim/Desktop/최종프로젝트/데이터_가공/기업개황/기업개황_v3.xlsx',\n",
    "                    dtype={'corp_code':str, 'bizr_no':str})"
   ]
  },
  {
   "cell_type": "code",
   "execution_count": 28,
   "metadata": {},
   "outputs": [
    {
     "data": {
      "text/html": [
       "<div>\n",
       "<style scoped>\n",
       "    .dataframe tbody tr th:only-of-type {\n",
       "        vertical-align: middle;\n",
       "    }\n",
       "\n",
       "    .dataframe tbody tr th {\n",
       "        vertical-align: top;\n",
       "    }\n",
       "\n",
       "    .dataframe thead th {\n",
       "        text-align: right;\n",
       "    }\n",
       "</style>\n",
       "<table border=\"1\" class=\"dataframe\">\n",
       "  <thead>\n",
       "    <tr style=\"text-align: right;\">\n",
       "      <th></th>\n",
       "      <th>Unnamed: 0</th>\n",
       "      <th>corp_code</th>\n",
       "      <th>corp_name</th>\n",
       "      <th>corp_name_eng</th>\n",
       "      <th>jurir_no</th>\n",
       "      <th>bizr_no</th>\n",
       "      <th>adres</th>\n",
       "      <th>hm_url</th>\n",
       "      <th>country_code</th>\n",
       "      <th>phn_no</th>\n",
       "      <th>country_code_fax</th>\n",
       "      <th>fax_no</th>\n",
       "      <th>induty_code</th>\n",
       "      <th>est_dt</th>\n",
       "      <th>acc_mt</th>\n",
       "    </tr>\n",
       "  </thead>\n",
       "  <tbody>\n",
       "    <tr>\n",
       "      <th>0</th>\n",
       "      <td>0</td>\n",
       "      <td>00434003</td>\n",
       "      <td>(주)다코</td>\n",
       "      <td>Daco corporation</td>\n",
       "      <td>1615110021778</td>\n",
       "      <td>3128134722</td>\n",
       "      <td>충청남도 천안시 청당동 419-12</td>\n",
       "      <td>NaN</td>\n",
       "      <td>82</td>\n",
       "      <td>0415651800</td>\n",
       "      <td>82</td>\n",
       "      <td>0415636808</td>\n",
       "      <td>25931</td>\n",
       "      <td>19970611.0</td>\n",
       "      <td>12.0</td>\n",
       "    </tr>\n",
       "    <tr>\n",
       "      <th>1</th>\n",
       "      <td>1</td>\n",
       "      <td>00434456</td>\n",
       "      <td>일산약품(주)</td>\n",
       "      <td>ILSAN PHARMACEUTICAL CO.,LTD.</td>\n",
       "      <td>1412110004641</td>\n",
       "      <td>2248105027</td>\n",
       "      <td>강원도 원주시 원동 303</td>\n",
       "      <td>NaN</td>\n",
       "      <td>82</td>\n",
       "      <td>0337637535</td>\n",
       "      <td>82</td>\n",
       "      <td>0337636433</td>\n",
       "      <td>21101</td>\n",
       "      <td>19910615.0</td>\n",
       "      <td>12.0</td>\n",
       "    </tr>\n",
       "    <tr>\n",
       "      <th>2</th>\n",
       "      <td>2</td>\n",
       "      <td>00430964</td>\n",
       "      <td>굿앤엘에스주식회사</td>\n",
       "      <td>Good &amp; LS Co.,Ltd.</td>\n",
       "      <td>1101112672875</td>\n",
       "      <td>1048177488</td>\n",
       "      <td>서울특별시 중구 태평로2가 120</td>\n",
       "      <td>NaN</td>\n",
       "      <td>82</td>\n",
       "      <td>0262638185</td>\n",
       "      <td>82</td>\n",
       "      <td>NaN</td>\n",
       "      <td>64999</td>\n",
       "      <td>20021213.0</td>\n",
       "      <td>11.0</td>\n",
       "    </tr>\n",
       "    <tr>\n",
       "      <th>3</th>\n",
       "      <td>3</td>\n",
       "      <td>00432403</td>\n",
       "      <td>한라판지(주)</td>\n",
       "      <td>HANLA PARKING CO.,LTD</td>\n",
       "      <td>2201110019993</td>\n",
       "      <td>6168120149</td>\n",
       "      <td>제주특별자치도 북제주군 한림읍 상명리 587</td>\n",
       "      <td>NaN</td>\n",
       "      <td>82</td>\n",
       "      <td>0647968001</td>\n",
       "      <td>82</td>\n",
       "      <td>0647968003</td>\n",
       "      <td>17123</td>\n",
       "      <td>19970601.0</td>\n",
       "      <td>12.0</td>\n",
       "    </tr>\n",
       "    <tr>\n",
       "      <th>4</th>\n",
       "      <td>4</td>\n",
       "      <td>00388953</td>\n",
       "      <td>크레디피아제이십오차유동화전문회사</td>\n",
       "      <td>Credipia 25th Asset Securitization Specialty L...</td>\n",
       "      <td>1101140036118</td>\n",
       "      <td>1078608501</td>\n",
       "      <td>서울특별시 영등포구 여의도동 36-3</td>\n",
       "      <td>NaN</td>\n",
       "      <td>82</td>\n",
       "      <td>077687911</td>\n",
       "      <td>82</td>\n",
       "      <td>7849869</td>\n",
       "      <td>64999</td>\n",
       "      <td>20011121.0</td>\n",
       "      <td>10.0</td>\n",
       "    </tr>\n",
       "  </tbody>\n",
       "</table>\n",
       "</div>"
      ],
      "text/plain": [
       "   Unnamed: 0 corp_code          corp_name  \\\n",
       "0           0  00434003              (주)다코   \n",
       "1           1  00434456            일산약품(주)   \n",
       "2           2  00430964          굿앤엘에스주식회사   \n",
       "3           3  00432403            한라판지(주)   \n",
       "4           4  00388953  크레디피아제이십오차유동화전문회사   \n",
       "\n",
       "                                       corp_name_eng       jurir_no  \\\n",
       "0                                   Daco corporation  1615110021778   \n",
       "1                      ILSAN PHARMACEUTICAL CO.,LTD.  1412110004641   \n",
       "2                                 Good & LS Co.,Ltd.  1101112672875   \n",
       "3                              HANLA PARKING CO.,LTD  2201110019993   \n",
       "4  Credipia 25th Asset Securitization Specialty L...  1101140036118   \n",
       "\n",
       "      bizr_no                     adres hm_url  country_code      phn_no  \\\n",
       "0  3128134722       충청남도 천안시 청당동 419-12    NaN            82  0415651800   \n",
       "1  2248105027            강원도 원주시 원동 303    NaN            82  0337637535   \n",
       "2  1048177488        서울특별시 중구 태평로2가 120    NaN            82  0262638185   \n",
       "3  6168120149  제주특별자치도 북제주군 한림읍 상명리 587    NaN            82  0647968001   \n",
       "4  1078608501      서울특별시 영등포구 여의도동 36-3    NaN            82   077687911   \n",
       "\n",
       "   country_code_fax      fax_no induty_code      est_dt  acc_mt  \n",
       "0                82  0415636808       25931  19970611.0    12.0  \n",
       "1                82  0337636433       21101  19910615.0    12.0  \n",
       "2                82         NaN       64999  20021213.0    11.0  \n",
       "3                82  0647968003       17123  19970601.0    12.0  \n",
       "4                82     7849869       64999  20011121.0    10.0  "
      ]
     },
     "execution_count": 28,
     "metadata": {},
     "output_type": "execute_result"
    }
   ],
   "source": [
    "corp.head()"
   ]
  },
  {
   "cell_type": "code",
   "execution_count": 33,
   "metadata": {},
   "outputs": [],
   "source": [
    "icm_stmt = icm_stmt.rename(columns={\"기업코드\" : \"corp_code\"})"
   ]
  },
  {
   "cell_type": "code",
   "execution_count": 34,
   "metadata": {},
   "outputs": [
    {
     "data": {
      "text/html": [
       "<div>\n",
       "<style scoped>\n",
       "    .dataframe tbody tr th:only-of-type {\n",
       "        vertical-align: middle;\n",
       "    }\n",
       "\n",
       "    .dataframe tbody tr th {\n",
       "        vertical-align: top;\n",
       "    }\n",
       "\n",
       "    .dataframe thead th {\n",
       "        text-align: right;\n",
       "    }\n",
       "</style>\n",
       "<table border=\"1\" class=\"dataframe\">\n",
       "  <thead>\n",
       "    <tr style=\"text-align: right;\">\n",
       "      <th></th>\n",
       "      <th>Unnamed: 0</th>\n",
       "      <th>Unnamed: 0.1</th>\n",
       "      <th>corp_code</th>\n",
       "      <th>회차</th>\n",
       "      <th>등록일</th>\n",
       "      <th>수익(매출액)</th>\n",
       "      <th>영업이익(손실)</th>\n",
       "      <th>당기순이익(손실)</th>\n",
       "    </tr>\n",
       "  </thead>\n",
       "  <tbody>\n",
       "    <tr>\n",
       "      <th>0</th>\n",
       "      <td>0</td>\n",
       "      <td>0</td>\n",
       "      <td>00956028</td>\n",
       "      <td>제 16 기</td>\n",
       "      <td>20180420</td>\n",
       "      <td>24347218.0</td>\n",
       "      <td>1.203810e+05</td>\n",
       "      <td>-1.629679e+06</td>\n",
       "    </tr>\n",
       "    <tr>\n",
       "      <th>1</th>\n",
       "      <td>1</td>\n",
       "      <td>1</td>\n",
       "      <td>01165739</td>\n",
       "      <td>제 3 기</td>\n",
       "      <td>20180430</td>\n",
       "      <td>NaN</td>\n",
       "      <td>-3.982045e+06</td>\n",
       "      <td>-1.386465e+07</td>\n",
       "    </tr>\n",
       "    <tr>\n",
       "      <th>2</th>\n",
       "      <td>2</td>\n",
       "      <td>2</td>\n",
       "      <td>00171636</td>\n",
       "      <td>제 53 기</td>\n",
       "      <td>20180402</td>\n",
       "      <td>NaN</td>\n",
       "      <td>1.495268e+10</td>\n",
       "      <td>-1.436855e+11</td>\n",
       "    </tr>\n",
       "    <tr>\n",
       "      <th>3</th>\n",
       "      <td>3</td>\n",
       "      <td>3</td>\n",
       "      <td>00147772</td>\n",
       "      <td>제 49 기</td>\n",
       "      <td>20180330</td>\n",
       "      <td>NaN</td>\n",
       "      <td>NaN</td>\n",
       "      <td>NaN</td>\n",
       "    </tr>\n",
       "    <tr>\n",
       "      <th>4</th>\n",
       "      <td>4</td>\n",
       "      <td>4</td>\n",
       "      <td>00273110</td>\n",
       "      <td>제 29 기</td>\n",
       "      <td>20180402</td>\n",
       "      <td>NaN</td>\n",
       "      <td>-8.455347e+09</td>\n",
       "      <td>-1.079760e+10</td>\n",
       "    </tr>\n",
       "  </tbody>\n",
       "</table>\n",
       "</div>"
      ],
      "text/plain": [
       "   Unnamed: 0  Unnamed: 0.1 corp_code      회차       등록일     수익(매출액)  \\\n",
       "0           0             0  00956028  제 16 기  20180420  24347218.0   \n",
       "1           1             1  01165739   제 3 기  20180430         NaN   \n",
       "2           2             2  00171636  제 53 기  20180402         NaN   \n",
       "3           3             3  00147772  제 49 기  20180330         NaN   \n",
       "4           4             4  00273110  제 29 기  20180402         NaN   \n",
       "\n",
       "       영업이익(손실)     당기순이익(손실)  \n",
       "0  1.203810e+05 -1.629679e+06  \n",
       "1 -3.982045e+06 -1.386465e+07  \n",
       "2  1.495268e+10 -1.436855e+11  \n",
       "3           NaN           NaN  \n",
       "4 -8.455347e+09 -1.079760e+10  "
      ]
     },
     "execution_count": 34,
     "metadata": {},
     "output_type": "execute_result"
    }
   ],
   "source": [
    "icm_stmt.head()"
   ]
  },
  {
   "cell_type": "code",
   "execution_count": 35,
   "metadata": {},
   "outputs": [],
   "source": [
    " df = pd.merge(icm_stmt, corp, on='corp_code')"
   ]
  },
  {
   "cell_type": "code",
   "execution_count": 36,
   "metadata": {},
   "outputs": [
    {
     "data": {
      "text/plain": [
       "5925"
      ]
     },
     "execution_count": 36,
     "metadata": {},
     "output_type": "execute_result"
    }
   ],
   "source": [
    "len(icm_stmt)"
   ]
  },
  {
   "cell_type": "code",
   "execution_count": 37,
   "metadata": {},
   "outputs": [
    {
     "data": {
      "text/html": [
       "<div>\n",
       "<style scoped>\n",
       "    .dataframe tbody tr th:only-of-type {\n",
       "        vertical-align: middle;\n",
       "    }\n",
       "\n",
       "    .dataframe tbody tr th {\n",
       "        vertical-align: top;\n",
       "    }\n",
       "\n",
       "    .dataframe thead th {\n",
       "        text-align: right;\n",
       "    }\n",
       "</style>\n",
       "<table border=\"1\" class=\"dataframe\">\n",
       "  <thead>\n",
       "    <tr style=\"text-align: right;\">\n",
       "      <th></th>\n",
       "      <th>Unnamed: 0_x</th>\n",
       "      <th>Unnamed: 0.1</th>\n",
       "      <th>corp_code</th>\n",
       "      <th>회차</th>\n",
       "      <th>등록일</th>\n",
       "      <th>수익(매출액)</th>\n",
       "      <th>영업이익(손실)</th>\n",
       "      <th>당기순이익(손실)</th>\n",
       "      <th>Unnamed: 0_y</th>\n",
       "      <th>corp_name</th>\n",
       "      <th>...</th>\n",
       "      <th>bizr_no</th>\n",
       "      <th>adres</th>\n",
       "      <th>hm_url</th>\n",
       "      <th>country_code</th>\n",
       "      <th>phn_no</th>\n",
       "      <th>country_code_fax</th>\n",
       "      <th>fax_no</th>\n",
       "      <th>induty_code</th>\n",
       "      <th>est_dt</th>\n",
       "      <th>acc_mt</th>\n",
       "    </tr>\n",
       "  </thead>\n",
       "  <tbody>\n",
       "    <tr>\n",
       "      <th>0</th>\n",
       "      <td>0</td>\n",
       "      <td>0</td>\n",
       "      <td>00956028</td>\n",
       "      <td>제 16 기</td>\n",
       "      <td>20180420</td>\n",
       "      <td>24347218.0</td>\n",
       "      <td>120381.0</td>\n",
       "      <td>-1629679.0</td>\n",
       "      <td>14842</td>\n",
       "      <td>엑세스바이오 인코퍼레이션</td>\n",
       "      <td>...</td>\n",
       "      <td>0100888833</td>\n",
       "      <td>65 Clyde Road Suite A Somerset NJ 08873, USA</td>\n",
       "      <td>accessbio.net</td>\n",
       "      <td>1</td>\n",
       "      <td>17328734040</td>\n",
       "      <td>82</td>\n",
       "      <td>7328734043</td>\n",
       "      <td>21300</td>\n",
       "      <td>20020927.0</td>\n",
       "      <td>12.0</td>\n",
       "    </tr>\n",
       "    <tr>\n",
       "      <th>1</th>\n",
       "      <td>1886</td>\n",
       "      <td>1886</td>\n",
       "      <td>00956028</td>\n",
       "      <td>제 17 기</td>\n",
       "      <td>20190430</td>\n",
       "      <td>34158734.0</td>\n",
       "      <td>870002.0</td>\n",
       "      <td>735372.0</td>\n",
       "      <td>14842</td>\n",
       "      <td>엑세스바이오 인코퍼레이션</td>\n",
       "      <td>...</td>\n",
       "      <td>0100888833</td>\n",
       "      <td>65 Clyde Road Suite A Somerset NJ 08873, USA</td>\n",
       "      <td>accessbio.net</td>\n",
       "      <td>1</td>\n",
       "      <td>17328734040</td>\n",
       "      <td>82</td>\n",
       "      <td>7328734043</td>\n",
       "      <td>21300</td>\n",
       "      <td>20020927.0</td>\n",
       "      <td>12.0</td>\n",
       "    </tr>\n",
       "    <tr>\n",
       "      <th>2</th>\n",
       "      <td>3864</td>\n",
       "      <td>3864</td>\n",
       "      <td>00956028</td>\n",
       "      <td>제 18 기</td>\n",
       "      <td>20200424</td>\n",
       "      <td>32067422.0</td>\n",
       "      <td>-2688741.0</td>\n",
       "      <td>-6263868.0</td>\n",
       "      <td>14842</td>\n",
       "      <td>엑세스바이오 인코퍼레이션</td>\n",
       "      <td>...</td>\n",
       "      <td>0100888833</td>\n",
       "      <td>65 Clyde Road Suite A Somerset NJ 08873, USA</td>\n",
       "      <td>accessbio.net</td>\n",
       "      <td>1</td>\n",
       "      <td>17328734040</td>\n",
       "      <td>82</td>\n",
       "      <td>7328734043</td>\n",
       "      <td>21300</td>\n",
       "      <td>20020927.0</td>\n",
       "      <td>12.0</td>\n",
       "    </tr>\n",
       "    <tr>\n",
       "      <th>3</th>\n",
       "      <td>1</td>\n",
       "      <td>1</td>\n",
       "      <td>01165739</td>\n",
       "      <td>제 3 기</td>\n",
       "      <td>20180430</td>\n",
       "      <td>NaN</td>\n",
       "      <td>-3982045.0</td>\n",
       "      <td>-13864646.0</td>\n",
       "      <td>37539</td>\n",
       "      <td>잉글우드랩 주식회사</td>\n",
       "      <td>...</td>\n",
       "      <td>0101038103</td>\n",
       "      <td>88 W. Sheffield Avenue, Englewood, NJ 07631, USA</td>\n",
       "      <td>englewoodlab.com</td>\n",
       "      <td>1</td>\n",
       "      <td>12015672267</td>\n",
       "      <td>82</td>\n",
       "      <td>2015672280</td>\n",
       "      <td>204</td>\n",
       "      <td>20150820.0</td>\n",
       "      <td>12.0</td>\n",
       "    </tr>\n",
       "    <tr>\n",
       "      <th>4</th>\n",
       "      <td>1887</td>\n",
       "      <td>1887</td>\n",
       "      <td>01165739</td>\n",
       "      <td>제 4 기</td>\n",
       "      <td>20190329</td>\n",
       "      <td>NaN</td>\n",
       "      <td>3641676.0</td>\n",
       "      <td>-3714588.0</td>\n",
       "      <td>37539</td>\n",
       "      <td>잉글우드랩 주식회사</td>\n",
       "      <td>...</td>\n",
       "      <td>0101038103</td>\n",
       "      <td>88 W. Sheffield Avenue, Englewood, NJ 07631, USA</td>\n",
       "      <td>englewoodlab.com</td>\n",
       "      <td>1</td>\n",
       "      <td>12015672267</td>\n",
       "      <td>82</td>\n",
       "      <td>2015672280</td>\n",
       "      <td>204</td>\n",
       "      <td>20150820.0</td>\n",
       "      <td>12.0</td>\n",
       "    </tr>\n",
       "  </tbody>\n",
       "</table>\n",
       "<p>5 rows × 22 columns</p>\n",
       "</div>"
      ],
      "text/plain": [
       "   Unnamed: 0_x  Unnamed: 0.1 corp_code      회차       등록일     수익(매출액)  \\\n",
       "0             0             0  00956028  제 16 기  20180420  24347218.0   \n",
       "1          1886          1886  00956028  제 17 기  20190430  34158734.0   \n",
       "2          3864          3864  00956028  제 18 기  20200424  32067422.0   \n",
       "3             1             1  01165739   제 3 기  20180430         NaN   \n",
       "4          1887          1887  01165739   제 4 기  20190329         NaN   \n",
       "\n",
       "    영업이익(손실)   당기순이익(손실)  Unnamed: 0_y      corp_name  ...     bizr_no  \\\n",
       "0   120381.0  -1629679.0         14842  엑세스바이오 인코퍼레이션  ...  0100888833   \n",
       "1   870002.0    735372.0         14842  엑세스바이오 인코퍼레이션  ...  0100888833   \n",
       "2 -2688741.0  -6263868.0         14842  엑세스바이오 인코퍼레이션  ...  0100888833   \n",
       "3 -3982045.0 -13864646.0         37539     잉글우드랩 주식회사  ...  0101038103   \n",
       "4  3641676.0  -3714588.0         37539     잉글우드랩 주식회사  ...  0101038103   \n",
       "\n",
       "                                              adres            hm_url  \\\n",
       "0      65 Clyde Road Suite A Somerset NJ 08873, USA     accessbio.net   \n",
       "1      65 Clyde Road Suite A Somerset NJ 08873, USA     accessbio.net   \n",
       "2      65 Clyde Road Suite A Somerset NJ 08873, USA     accessbio.net   \n",
       "3  88 W. Sheffield Avenue, Englewood, NJ 07631, USA  englewoodlab.com   \n",
       "4  88 W. Sheffield Avenue, Englewood, NJ 07631, USA  englewoodlab.com   \n",
       "\n",
       "  country_code       phn_no  country_code_fax      fax_no  induty_code  \\\n",
       "0            1  17328734040                82  7328734043        21300   \n",
       "1            1  17328734040                82  7328734043        21300   \n",
       "2            1  17328734040                82  7328734043        21300   \n",
       "3            1  12015672267                82  2015672280          204   \n",
       "4            1  12015672267                82  2015672280          204   \n",
       "\n",
       "       est_dt acc_mt  \n",
       "0  20020927.0   12.0  \n",
       "1  20020927.0   12.0  \n",
       "2  20020927.0   12.0  \n",
       "3  20150820.0   12.0  \n",
       "4  20150820.0   12.0  \n",
       "\n",
       "[5 rows x 22 columns]"
      ]
     },
     "execution_count": 37,
     "metadata": {},
     "output_type": "execute_result"
    }
   ],
   "source": [
    "df.head()"
   ]
  },
  {
   "cell_type": "code",
   "execution_count": 39,
   "metadata": {},
   "outputs": [],
   "source": [
    "df = df.drop(['Unnamed: 0_x', 'Unnamed: 0.1', 'Unnamed: 0_y', 'corp_name', 'adres', 'hm_url', 'country_code', 'phn_no', 'fax_no', 'country_code_fax', 'induty_code', 'est_dt', 'acc_mt'], axis=1)  "
   ]
  },
  {
   "cell_type": "code",
   "execution_count": 40,
   "metadata": {},
   "outputs": [
    {
     "data": {
      "text/html": [
       "<div>\n",
       "<style scoped>\n",
       "    .dataframe tbody tr th:only-of-type {\n",
       "        vertical-align: middle;\n",
       "    }\n",
       "\n",
       "    .dataframe tbody tr th {\n",
       "        vertical-align: top;\n",
       "    }\n",
       "\n",
       "    .dataframe thead th {\n",
       "        text-align: right;\n",
       "    }\n",
       "</style>\n",
       "<table border=\"1\" class=\"dataframe\">\n",
       "  <thead>\n",
       "    <tr style=\"text-align: right;\">\n",
       "      <th></th>\n",
       "      <th>corp_code</th>\n",
       "      <th>회차</th>\n",
       "      <th>등록일</th>\n",
       "      <th>수익(매출액)</th>\n",
       "      <th>영업이익(손실)</th>\n",
       "      <th>당기순이익(손실)</th>\n",
       "      <th>corp_name_eng</th>\n",
       "      <th>jurir_no</th>\n",
       "      <th>bizr_no</th>\n",
       "    </tr>\n",
       "  </thead>\n",
       "  <tbody>\n",
       "    <tr>\n",
       "      <th>0</th>\n",
       "      <td>00956028</td>\n",
       "      <td>제 16 기</td>\n",
       "      <td>20180420</td>\n",
       "      <td>24347218.0</td>\n",
       "      <td>120381.0</td>\n",
       "      <td>-1629679.0</td>\n",
       "      <td>Access Bio, Inc.</td>\n",
       "      <td>NaN</td>\n",
       "      <td>0100888833</td>\n",
       "    </tr>\n",
       "    <tr>\n",
       "      <th>1</th>\n",
       "      <td>00956028</td>\n",
       "      <td>제 17 기</td>\n",
       "      <td>20190430</td>\n",
       "      <td>34158734.0</td>\n",
       "      <td>870002.0</td>\n",
       "      <td>735372.0</td>\n",
       "      <td>Access Bio, Inc.</td>\n",
       "      <td>NaN</td>\n",
       "      <td>0100888833</td>\n",
       "    </tr>\n",
       "    <tr>\n",
       "      <th>2</th>\n",
       "      <td>00956028</td>\n",
       "      <td>제 18 기</td>\n",
       "      <td>20200424</td>\n",
       "      <td>32067422.0</td>\n",
       "      <td>-2688741.0</td>\n",
       "      <td>-6263868.0</td>\n",
       "      <td>Access Bio, Inc.</td>\n",
       "      <td>NaN</td>\n",
       "      <td>0100888833</td>\n",
       "    </tr>\n",
       "    <tr>\n",
       "      <th>3</th>\n",
       "      <td>01165739</td>\n",
       "      <td>제 3 기</td>\n",
       "      <td>20180430</td>\n",
       "      <td>NaN</td>\n",
       "      <td>-3982045.0</td>\n",
       "      <td>-13864646.0</td>\n",
       "      <td>Englewood Lab, Inc.</td>\n",
       "      <td>NaN</td>\n",
       "      <td>0101038103</td>\n",
       "    </tr>\n",
       "    <tr>\n",
       "      <th>4</th>\n",
       "      <td>01165739</td>\n",
       "      <td>제 4 기</td>\n",
       "      <td>20190329</td>\n",
       "      <td>NaN</td>\n",
       "      <td>3641676.0</td>\n",
       "      <td>-3714588.0</td>\n",
       "      <td>Englewood Lab, Inc.</td>\n",
       "      <td>NaN</td>\n",
       "      <td>0101038103</td>\n",
       "    </tr>\n",
       "  </tbody>\n",
       "</table>\n",
       "</div>"
      ],
      "text/plain": [
       "  corp_code      회차       등록일     수익(매출액)   영업이익(손실)   당기순이익(손실)  \\\n",
       "0  00956028  제 16 기  20180420  24347218.0   120381.0  -1629679.0   \n",
       "1  00956028  제 17 기  20190430  34158734.0   870002.0    735372.0   \n",
       "2  00956028  제 18 기  20200424  32067422.0 -2688741.0  -6263868.0   \n",
       "3  01165739   제 3 기  20180430         NaN -3982045.0 -13864646.0   \n",
       "4  01165739   제 4 기  20190329         NaN  3641676.0  -3714588.0   \n",
       "\n",
       "         corp_name_eng jurir_no     bizr_no  \n",
       "0     Access Bio, Inc.      NaN  0100888833  \n",
       "1     Access Bio, Inc.      NaN  0100888833  \n",
       "2     Access Bio, Inc.      NaN  0100888833  \n",
       "3  Englewood Lab, Inc.      NaN  0101038103  \n",
       "4  Englewood Lab, Inc.      NaN  0101038103  "
      ]
     },
     "execution_count": 40,
     "metadata": {},
     "output_type": "execute_result"
    }
   ],
   "source": [
    "df.head()"
   ]
  },
  {
   "cell_type": "code",
   "execution_count": 42,
   "metadata": {},
   "outputs": [],
   "source": [
    "df = df.drop(['corp_name_eng', 'jurir_no'], axis=1)"
   ]
  },
  {
   "cell_type": "code",
   "execution_count": 45,
   "metadata": {},
   "outputs": [],
   "source": [
    "df = df.drop(['corp_code'], axis=1)"
   ]
  },
  {
   "cell_type": "code",
   "execution_count": 46,
   "metadata": {},
   "outputs": [
    {
     "data": {
      "text/html": [
       "<div>\n",
       "<style scoped>\n",
       "    .dataframe tbody tr th:only-of-type {\n",
       "        vertical-align: middle;\n",
       "    }\n",
       "\n",
       "    .dataframe tbody tr th {\n",
       "        vertical-align: top;\n",
       "    }\n",
       "\n",
       "    .dataframe thead th {\n",
       "        text-align: right;\n",
       "    }\n",
       "</style>\n",
       "<table border=\"1\" class=\"dataframe\">\n",
       "  <thead>\n",
       "    <tr style=\"text-align: right;\">\n",
       "      <th></th>\n",
       "      <th>회차</th>\n",
       "      <th>등록일</th>\n",
       "      <th>수익(매출액)</th>\n",
       "      <th>영업이익(손실)</th>\n",
       "      <th>당기순이익(손실)</th>\n",
       "      <th>bizr_no</th>\n",
       "    </tr>\n",
       "  </thead>\n",
       "  <tbody>\n",
       "    <tr>\n",
       "      <th>0</th>\n",
       "      <td>제 16 기</td>\n",
       "      <td>20180420</td>\n",
       "      <td>24347218.0</td>\n",
       "      <td>120381.0</td>\n",
       "      <td>-1629679.0</td>\n",
       "      <td>0100888833</td>\n",
       "    </tr>\n",
       "    <tr>\n",
       "      <th>1</th>\n",
       "      <td>제 17 기</td>\n",
       "      <td>20190430</td>\n",
       "      <td>34158734.0</td>\n",
       "      <td>870002.0</td>\n",
       "      <td>735372.0</td>\n",
       "      <td>0100888833</td>\n",
       "    </tr>\n",
       "    <tr>\n",
       "      <th>2</th>\n",
       "      <td>제 18 기</td>\n",
       "      <td>20200424</td>\n",
       "      <td>32067422.0</td>\n",
       "      <td>-2688741.0</td>\n",
       "      <td>-6263868.0</td>\n",
       "      <td>0100888833</td>\n",
       "    </tr>\n",
       "    <tr>\n",
       "      <th>3</th>\n",
       "      <td>제 3 기</td>\n",
       "      <td>20180430</td>\n",
       "      <td>NaN</td>\n",
       "      <td>-3982045.0</td>\n",
       "      <td>-13864646.0</td>\n",
       "      <td>0101038103</td>\n",
       "    </tr>\n",
       "    <tr>\n",
       "      <th>4</th>\n",
       "      <td>제 4 기</td>\n",
       "      <td>20190329</td>\n",
       "      <td>NaN</td>\n",
       "      <td>3641676.0</td>\n",
       "      <td>-3714588.0</td>\n",
       "      <td>0101038103</td>\n",
       "    </tr>\n",
       "  </tbody>\n",
       "</table>\n",
       "</div>"
      ],
      "text/plain": [
       "       회차       등록일     수익(매출액)   영업이익(손실)   당기순이익(손실)     bizr_no\n",
       "0  제 16 기  20180420  24347218.0   120381.0  -1629679.0  0100888833\n",
       "1  제 17 기  20190430  34158734.0   870002.0    735372.0  0100888833\n",
       "2  제 18 기  20200424  32067422.0 -2688741.0  -6263868.0  0100888833\n",
       "3   제 3 기  20180430         NaN -3982045.0 -13864646.0  0101038103\n",
       "4   제 4 기  20190329         NaN  3641676.0  -3714588.0  0101038103"
      ]
     },
     "execution_count": 46,
     "metadata": {},
     "output_type": "execute_result"
    }
   ],
   "source": [
    "df.head()"
   ]
  },
  {
   "cell_type": "code",
   "execution_count": 52,
   "metadata": {},
   "outputs": [],
   "source": [
    "# 한글&공백 지우는 함수 \n",
    "def remove_korean(data_list):\n",
    "    for i in range(len(data_list)):\n",
    "        data_list.iloc[i] = re.sub('[|가-힣]+', '', str(data_list.iloc[i]))\n",
    "        data_list.iloc[i] = re.sub('[\\s]', '', str(data_list.iloc[i]))"
   ]
  },
  {
   "cell_type": "code",
   "execution_count": 53,
   "metadata": {},
   "outputs": [
    {
     "name": "stderr",
     "output_type": "stream",
     "text": [
      "/usr/local/lib/python3.7/site-packages/pandas/core/indexing.py:671: SettingWithCopyWarning: \n",
      "A value is trying to be set on a copy of a slice from a DataFrame\n",
      "\n",
      "See the caveats in the documentation: https://pandas.pydata.org/pandas-docs/stable/user_guide/indexing.html#returning-a-view-versus-a-copy\n",
      "  self._setitem_with_indexer(indexer, value)\n"
     ]
    }
   ],
   "source": [
    "remove_korean(df['회차'])"
   ]
  },
  {
   "cell_type": "code",
   "execution_count": 54,
   "metadata": {},
   "outputs": [
    {
     "data": {
      "text/html": [
       "<div>\n",
       "<style scoped>\n",
       "    .dataframe tbody tr th:only-of-type {\n",
       "        vertical-align: middle;\n",
       "    }\n",
       "\n",
       "    .dataframe tbody tr th {\n",
       "        vertical-align: top;\n",
       "    }\n",
       "\n",
       "    .dataframe thead th {\n",
       "        text-align: right;\n",
       "    }\n",
       "</style>\n",
       "<table border=\"1\" class=\"dataframe\">\n",
       "  <thead>\n",
       "    <tr style=\"text-align: right;\">\n",
       "      <th></th>\n",
       "      <th>회차</th>\n",
       "      <th>등록일</th>\n",
       "      <th>수익(매출액)</th>\n",
       "      <th>영업이익(손실)</th>\n",
       "      <th>당기순이익(손실)</th>\n",
       "      <th>bizr_no</th>\n",
       "    </tr>\n",
       "  </thead>\n",
       "  <tbody>\n",
       "    <tr>\n",
       "      <th>0</th>\n",
       "      <td>16</td>\n",
       "      <td>20180420</td>\n",
       "      <td>24347218.0</td>\n",
       "      <td>120381.0</td>\n",
       "      <td>-1629679.0</td>\n",
       "      <td>0100888833</td>\n",
       "    </tr>\n",
       "    <tr>\n",
       "      <th>1</th>\n",
       "      <td>17</td>\n",
       "      <td>20190430</td>\n",
       "      <td>34158734.0</td>\n",
       "      <td>870002.0</td>\n",
       "      <td>735372.0</td>\n",
       "      <td>0100888833</td>\n",
       "    </tr>\n",
       "    <tr>\n",
       "      <th>2</th>\n",
       "      <td>18</td>\n",
       "      <td>20200424</td>\n",
       "      <td>32067422.0</td>\n",
       "      <td>-2688741.0</td>\n",
       "      <td>-6263868.0</td>\n",
       "      <td>0100888833</td>\n",
       "    </tr>\n",
       "    <tr>\n",
       "      <th>3</th>\n",
       "      <td>3</td>\n",
       "      <td>20180430</td>\n",
       "      <td>NaN</td>\n",
       "      <td>-3982045.0</td>\n",
       "      <td>-13864646.0</td>\n",
       "      <td>0101038103</td>\n",
       "    </tr>\n",
       "    <tr>\n",
       "      <th>4</th>\n",
       "      <td>4</td>\n",
       "      <td>20190329</td>\n",
       "      <td>NaN</td>\n",
       "      <td>3641676.0</td>\n",
       "      <td>-3714588.0</td>\n",
       "      <td>0101038103</td>\n",
       "    </tr>\n",
       "  </tbody>\n",
       "</table>\n",
       "</div>"
      ],
      "text/plain": [
       "   회차       등록일     수익(매출액)   영업이익(손실)   당기순이익(손실)     bizr_no\n",
       "0  16  20180420  24347218.0   120381.0  -1629679.0  0100888833\n",
       "1  17  20190430  34158734.0   870002.0    735372.0  0100888833\n",
       "2  18  20200424  32067422.0 -2688741.0  -6263868.0  0100888833\n",
       "3   3  20180430         NaN -3982045.0 -13864646.0  0101038103\n",
       "4   4  20190329         NaN  3641676.0  -3714588.0  0101038103"
      ]
     },
     "execution_count": 54,
     "metadata": {},
     "output_type": "execute_result"
    }
   ],
   "source": [
    "df.head()"
   ]
  },
  {
   "cell_type": "code",
   "execution_count": 56,
   "metadata": {},
   "outputs": [],
   "source": [
    "df.to_excel('손익계산서_v4.xlsx', encoding='euc-kr')"
   ]
  },
  {
   "cell_type": "markdown",
   "metadata": {},
   "source": [
    "## 현금흐름표"
   ]
  },
  {
   "cell_type": "code",
   "execution_count": 57,
   "metadata": {},
   "outputs": [],
   "source": [
    "cash_flow = pd.read_excel('/Users/linakim/Desktop/최종프로젝트/데이터_가공/현금흐름표/현금흐름표_v3.xlsx',\n",
    "                         dtype={'기업코드':str, '회차' : str, '등록일' : str, '영업활동현금흐름':float, \n",
    "                               '투자활동현금흐름':float, '재무활동현금흐름':float},\n",
    "                        index=False)"
   ]
  },
  {
   "cell_type": "code",
   "execution_count": 58,
   "metadata": {},
   "outputs": [
    {
     "data": {
      "text/html": [
       "<div>\n",
       "<style scoped>\n",
       "    .dataframe tbody tr th:only-of-type {\n",
       "        vertical-align: middle;\n",
       "    }\n",
       "\n",
       "    .dataframe tbody tr th {\n",
       "        vertical-align: top;\n",
       "    }\n",
       "\n",
       "    .dataframe thead th {\n",
       "        text-align: right;\n",
       "    }\n",
       "</style>\n",
       "<table border=\"1\" class=\"dataframe\">\n",
       "  <thead>\n",
       "    <tr style=\"text-align: right;\">\n",
       "      <th></th>\n",
       "      <th>Unnamed: 0</th>\n",
       "      <th>Unnamed: 0.1</th>\n",
       "      <th>기업코드</th>\n",
       "      <th>회차</th>\n",
       "      <th>등록일</th>\n",
       "      <th>영업활동현금흐름</th>\n",
       "      <th>투자활동현금흐름</th>\n",
       "      <th>재무활동현금흐름</th>\n",
       "    </tr>\n",
       "  </thead>\n",
       "  <tbody>\n",
       "    <tr>\n",
       "      <th>0</th>\n",
       "      <td>0</td>\n",
       "      <td>0</td>\n",
       "      <td>00956028</td>\n",
       "      <td>제 16 기</td>\n",
       "      <td>20180420</td>\n",
       "      <td>1.161698e+06</td>\n",
       "      <td>-1.578567e+07</td>\n",
       "      <td>8.305080e+05</td>\n",
       "    </tr>\n",
       "    <tr>\n",
       "      <th>1</th>\n",
       "      <td>1</td>\n",
       "      <td>1</td>\n",
       "      <td>01165739</td>\n",
       "      <td>제 3 기</td>\n",
       "      <td>20180430</td>\n",
       "      <td>-4.598219e+06</td>\n",
       "      <td>-1.301192e+07</td>\n",
       "      <td>5.795985e+06</td>\n",
       "    </tr>\n",
       "    <tr>\n",
       "      <th>2</th>\n",
       "      <td>2</td>\n",
       "      <td>2</td>\n",
       "      <td>00171636</td>\n",
       "      <td>제 53 기</td>\n",
       "      <td>20180402</td>\n",
       "      <td>9.117279e+09</td>\n",
       "      <td>1.722671e+10</td>\n",
       "      <td>-2.059409e+10</td>\n",
       "    </tr>\n",
       "    <tr>\n",
       "      <th>3</th>\n",
       "      <td>3</td>\n",
       "      <td>3</td>\n",
       "      <td>00147772</td>\n",
       "      <td>제 49 기</td>\n",
       "      <td>20180330</td>\n",
       "      <td>NaN</td>\n",
       "      <td>NaN</td>\n",
       "      <td>NaN</td>\n",
       "    </tr>\n",
       "    <tr>\n",
       "      <th>4</th>\n",
       "      <td>4</td>\n",
       "      <td>4</td>\n",
       "      <td>00273110</td>\n",
       "      <td>제 29 기</td>\n",
       "      <td>20180402</td>\n",
       "      <td>-7.277233e+09</td>\n",
       "      <td>-6.512408e+09</td>\n",
       "      <td>-1.119352e+07</td>\n",
       "    </tr>\n",
       "  </tbody>\n",
       "</table>\n",
       "</div>"
      ],
      "text/plain": [
       "   Unnamed: 0  Unnamed: 0.1      기업코드      회차       등록일      영업활동현금흐름  \\\n",
       "0           0             0  00956028  제 16 기  20180420  1.161698e+06   \n",
       "1           1             1  01165739   제 3 기  20180430 -4.598219e+06   \n",
       "2           2             2  00171636  제 53 기  20180402  9.117279e+09   \n",
       "3           3             3  00147772  제 49 기  20180330           NaN   \n",
       "4           4             4  00273110  제 29 기  20180402 -7.277233e+09   \n",
       "\n",
       "       투자활동현금흐름      재무활동현금흐름  \n",
       "0 -1.578567e+07  8.305080e+05  \n",
       "1 -1.301192e+07  5.795985e+06  \n",
       "2  1.722671e+10 -2.059409e+10  \n",
       "3           NaN           NaN  \n",
       "4 -6.512408e+09 -1.119352e+07  "
      ]
     },
     "execution_count": 58,
     "metadata": {},
     "output_type": "execute_result"
    }
   ],
   "source": [
    "cash_flow.head()"
   ]
  },
  {
   "cell_type": "code",
   "execution_count": 61,
   "metadata": {},
   "outputs": [],
   "source": [
    "cash_flow = cash_flow.rename(columns={\"기업코드\" : \"corp_code\"})\n",
    "df2 = pd.merge(cash_flow, corp, on='corp_code')\n",
    "df2 = df2.drop(['Unnamed: 0_x', 'Unnamed: 0.1', 'Unnamed: 0_y', 'corp_name', 'adres', 'hm_url', \n",
    "              'country_code', 'phn_no', 'fax_no', 'country_code_fax', 'induty_code', 'est_dt', \n",
    "              'acc_mt', 'corp_name_eng', 'jurir_no', 'corp_code'], axis=1)  "
   ]
  },
  {
   "cell_type": "code",
   "execution_count": 63,
   "metadata": {},
   "outputs": [
    {
     "name": "stderr",
     "output_type": "stream",
     "text": [
      "/usr/local/lib/python3.7/site-packages/pandas/core/indexing.py:671: SettingWithCopyWarning: \n",
      "A value is trying to be set on a copy of a slice from a DataFrame\n",
      "\n",
      "See the caveats in the documentation: https://pandas.pydata.org/pandas-docs/stable/user_guide/indexing.html#returning-a-view-versus-a-copy\n",
      "  self._setitem_with_indexer(indexer, value)\n"
     ]
    }
   ],
   "source": [
    "remove_korean(df2['회차'])"
   ]
  },
  {
   "cell_type": "code",
   "execution_count": 64,
   "metadata": {},
   "outputs": [
    {
     "data": {
      "text/html": [
       "<div>\n",
       "<style scoped>\n",
       "    .dataframe tbody tr th:only-of-type {\n",
       "        vertical-align: middle;\n",
       "    }\n",
       "\n",
       "    .dataframe tbody tr th {\n",
       "        vertical-align: top;\n",
       "    }\n",
       "\n",
       "    .dataframe thead th {\n",
       "        text-align: right;\n",
       "    }\n",
       "</style>\n",
       "<table border=\"1\" class=\"dataframe\">\n",
       "  <thead>\n",
       "    <tr style=\"text-align: right;\">\n",
       "      <th></th>\n",
       "      <th>회차</th>\n",
       "      <th>등록일</th>\n",
       "      <th>영업활동현금흐름</th>\n",
       "      <th>투자활동현금흐름</th>\n",
       "      <th>재무활동현금흐름</th>\n",
       "      <th>bizr_no</th>\n",
       "    </tr>\n",
       "  </thead>\n",
       "  <tbody>\n",
       "    <tr>\n",
       "      <th>0</th>\n",
       "      <td>16</td>\n",
       "      <td>20180420</td>\n",
       "      <td>1161698.0</td>\n",
       "      <td>-15785668.0</td>\n",
       "      <td>830508.0</td>\n",
       "      <td>0100888833</td>\n",
       "    </tr>\n",
       "    <tr>\n",
       "      <th>1</th>\n",
       "      <td>17</td>\n",
       "      <td>20190430</td>\n",
       "      <td>-493045.0</td>\n",
       "      <td>-8849543.0</td>\n",
       "      <td>5488735.0</td>\n",
       "      <td>0100888833</td>\n",
       "    </tr>\n",
       "    <tr>\n",
       "      <th>2</th>\n",
       "      <td>18</td>\n",
       "      <td>20200424</td>\n",
       "      <td>2396747.0</td>\n",
       "      <td>147906.0</td>\n",
       "      <td>-134921.0</td>\n",
       "      <td>0100888833</td>\n",
       "    </tr>\n",
       "    <tr>\n",
       "      <th>3</th>\n",
       "      <td>3</td>\n",
       "      <td>20180430</td>\n",
       "      <td>-4598219.0</td>\n",
       "      <td>-13011920.0</td>\n",
       "      <td>5795985.0</td>\n",
       "      <td>0101038103</td>\n",
       "    </tr>\n",
       "    <tr>\n",
       "      <th>4</th>\n",
       "      <td>4</td>\n",
       "      <td>20190329</td>\n",
       "      <td>-5175638.0</td>\n",
       "      <td>-7513805.0</td>\n",
       "      <td>7578926.0</td>\n",
       "      <td>0101038103</td>\n",
       "    </tr>\n",
       "  </tbody>\n",
       "</table>\n",
       "</div>"
      ],
      "text/plain": [
       "   회차       등록일   영업활동현금흐름    투자활동현금흐름   재무활동현금흐름     bizr_no\n",
       "0  16  20180420  1161698.0 -15785668.0   830508.0  0100888833\n",
       "1  17  20190430  -493045.0  -8849543.0  5488735.0  0100888833\n",
       "2  18  20200424  2396747.0    147906.0  -134921.0  0100888833\n",
       "3   3  20180430 -4598219.0 -13011920.0  5795985.0  0101038103\n",
       "4   4  20190329 -5175638.0  -7513805.0  7578926.0  0101038103"
      ]
     },
     "execution_count": 64,
     "metadata": {},
     "output_type": "execute_result"
    }
   ],
   "source": [
    "df2.head()"
   ]
  },
  {
   "cell_type": "code",
   "execution_count": 65,
   "metadata": {},
   "outputs": [],
   "source": [
    "df2.to_excel('현금흐름표_v4.xlsx', encoding='euc-kr')"
   ]
  },
  {
   "cell_type": "markdown",
   "metadata": {},
   "source": [
    "## 재무상태표"
   ]
  },
  {
   "cell_type": "code",
   "execution_count": 69,
   "metadata": {},
   "outputs": [],
   "source": [
    "fin_status = pd.read_excel('/Users/linakim/Desktop/최종프로젝트/데이터_가공/재무상태표/재무상태표_v3.xlsx',\n",
    "                         dtype={'기업코드':str, '회차' : str, '등록일' : str, '유동자산':float, \n",
    "                               '비유동자산':float, '자산총계':float, '유동부채':float, '비유동부채':float,\n",
    "                               '부채총계':float, '자본금':float, '이익잉여금(결손금)':float, '자본총계':float},\n",
    "                        index=False)"
   ]
  },
  {
   "cell_type": "code",
   "execution_count": 70,
   "metadata": {},
   "outputs": [
    {
     "name": "stderr",
     "output_type": "stream",
     "text": [
      "/usr/local/lib/python3.7/site-packages/pandas/core/indexing.py:671: SettingWithCopyWarning: \n",
      "A value is trying to be set on a copy of a slice from a DataFrame\n",
      "\n",
      "See the caveats in the documentation: https://pandas.pydata.org/pandas-docs/stable/user_guide/indexing.html#returning-a-view-versus-a-copy\n",
      "  self._setitem_with_indexer(indexer, value)\n"
     ]
    }
   ],
   "source": [
    "fin_status = fin_status.rename(columns={\"기업코드\" : \"corp_code\"})\n",
    "df3 = pd.merge(fin_status, corp, on='corp_code')\n",
    "df3 = df3.drop(['Unnamed: 0_x', 'Unnamed: 0.1', 'Unnamed: 0_y', 'corp_name', 'adres', 'hm_url', \n",
    "              'country_code', 'phn_no', 'fax_no', 'country_code_fax', 'induty_code', 'est_dt', \n",
    "              'acc_mt', 'corp_name_eng', 'jurir_no', 'corp_code'], axis=1)  \n",
    "remove_korean(df3['회차'])"
   ]
  },
  {
   "cell_type": "code",
   "execution_count": 71,
   "metadata": {},
   "outputs": [
    {
     "data": {
      "text/html": [
       "<div>\n",
       "<style scoped>\n",
       "    .dataframe tbody tr th:only-of-type {\n",
       "        vertical-align: middle;\n",
       "    }\n",
       "\n",
       "    .dataframe tbody tr th {\n",
       "        vertical-align: top;\n",
       "    }\n",
       "\n",
       "    .dataframe thead th {\n",
       "        text-align: right;\n",
       "    }\n",
       "</style>\n",
       "<table border=\"1\" class=\"dataframe\">\n",
       "  <thead>\n",
       "    <tr style=\"text-align: right;\">\n",
       "      <th></th>\n",
       "      <th>회차</th>\n",
       "      <th>등록일</th>\n",
       "      <th>유동자산</th>\n",
       "      <th>비유동자산</th>\n",
       "      <th>자산총계</th>\n",
       "      <th>유동부채</th>\n",
       "      <th>비유동부채</th>\n",
       "      <th>부채총계</th>\n",
       "      <th>자본금</th>\n",
       "      <th>이익잉여금(결손금)</th>\n",
       "      <th>자본총계</th>\n",
       "      <th>bizr_no</th>\n",
       "    </tr>\n",
       "  </thead>\n",
       "  <tbody>\n",
       "    <tr>\n",
       "      <th>0</th>\n",
       "      <td>16</td>\n",
       "      <td>20180420</td>\n",
       "      <td>23053799.0</td>\n",
       "      <td>55270950.0</td>\n",
       "      <td>78324749.0</td>\n",
       "      <td>15314213.0</td>\n",
       "      <td>11512077.0</td>\n",
       "      <td>26826290.0</td>\n",
       "      <td>1366450.0</td>\n",
       "      <td>17919915.0</td>\n",
       "      <td>51498459.0</td>\n",
       "      <td>0100888833</td>\n",
       "    </tr>\n",
       "    <tr>\n",
       "      <th>1</th>\n",
       "      <td>17</td>\n",
       "      <td>20190430</td>\n",
       "      <td>25353086.0</td>\n",
       "      <td>56696861.0</td>\n",
       "      <td>82049947.0</td>\n",
       "      <td>20401851.0</td>\n",
       "      <td>11050832.0</td>\n",
       "      <td>31452683.0</td>\n",
       "      <td>1366450.0</td>\n",
       "      <td>17183344.0</td>\n",
       "      <td>50597264.0</td>\n",
       "      <td>0100888833</td>\n",
       "    </tr>\n",
       "    <tr>\n",
       "      <th>2</th>\n",
       "      <td>18</td>\n",
       "      <td>20200424</td>\n",
       "      <td>16744383.0</td>\n",
       "      <td>55112776.0</td>\n",
       "      <td>71857159.0</td>\n",
       "      <td>14425198.0</td>\n",
       "      <td>7569035.0</td>\n",
       "      <td>21994233.0</td>\n",
       "      <td>1692086.0</td>\n",
       "      <td>10919476.0</td>\n",
       "      <td>49862926.0</td>\n",
       "      <td>0100888833</td>\n",
       "    </tr>\n",
       "    <tr>\n",
       "      <th>3</th>\n",
       "      <td>3</td>\n",
       "      <td>20180430</td>\n",
       "      <td>39187249.0</td>\n",
       "      <td>27230058.0</td>\n",
       "      <td>66417307.0</td>\n",
       "      <td>11385513.0</td>\n",
       "      <td>0.0</td>\n",
       "      <td>11385513.0</td>\n",
       "      <td>4966967.0</td>\n",
       "      <td>-13005260.0</td>\n",
       "      <td>55031794.0</td>\n",
       "      <td>0101038103</td>\n",
       "    </tr>\n",
       "    <tr>\n",
       "      <th>4</th>\n",
       "      <td>4</td>\n",
       "      <td>20190329</td>\n",
       "      <td>48327659.0</td>\n",
       "      <td>27131019.0</td>\n",
       "      <td>75458678.0</td>\n",
       "      <td>18400027.0</td>\n",
       "      <td>5741445.0</td>\n",
       "      <td>24141472.0</td>\n",
       "      <td>4966967.0</td>\n",
       "      <td>-16719848.0</td>\n",
       "      <td>51317206.0</td>\n",
       "      <td>0101038103</td>\n",
       "    </tr>\n",
       "  </tbody>\n",
       "</table>\n",
       "</div>"
      ],
      "text/plain": [
       "   회차       등록일        유동자산       비유동자산        자산총계        유동부채       비유동부채  \\\n",
       "0  16  20180420  23053799.0  55270950.0  78324749.0  15314213.0  11512077.0   \n",
       "1  17  20190430  25353086.0  56696861.0  82049947.0  20401851.0  11050832.0   \n",
       "2  18  20200424  16744383.0  55112776.0  71857159.0  14425198.0   7569035.0   \n",
       "3   3  20180430  39187249.0  27230058.0  66417307.0  11385513.0         0.0   \n",
       "4   4  20190329  48327659.0  27131019.0  75458678.0  18400027.0   5741445.0   \n",
       "\n",
       "         부채총계        자본금  이익잉여금(결손금)        자본총계     bizr_no  \n",
       "0  26826290.0  1366450.0  17919915.0  51498459.0  0100888833  \n",
       "1  31452683.0  1366450.0  17183344.0  50597264.0  0100888833  \n",
       "2  21994233.0  1692086.0  10919476.0  49862926.0  0100888833  \n",
       "3  11385513.0  4966967.0 -13005260.0  55031794.0  0101038103  \n",
       "4  24141472.0  4966967.0 -16719848.0  51317206.0  0101038103  "
      ]
     },
     "execution_count": 71,
     "metadata": {},
     "output_type": "execute_result"
    }
   ],
   "source": [
    "df3.head()"
   ]
  },
  {
   "cell_type": "code",
   "execution_count": 72,
   "metadata": {},
   "outputs": [],
   "source": [
    "df3.to_excel('재무상태표_v4.xlsx', encoding='euc-kr')"
   ]
  },
  {
   "cell_type": "code",
   "execution_count": 80,
   "metadata": {},
   "outputs": [
    {
     "data": {
      "text/plain": [
       "Unnamed: 0              0\n",
       "corp_code               0\n",
       "corp_name               0\n",
       "corp_name_eng        1575\n",
       "jurir_no             1757\n",
       "bizr_no               862\n",
       "adres                   3\n",
       "hm_url              53933\n",
       "country_code            0\n",
       "phn_no                171\n",
       "country_code_fax        0\n",
       "fax_no              13895\n",
       "induty_code           249\n",
       "est_dt                311\n",
       "acc_mt                 79\n",
       "dtype: int64"
      ]
     },
     "execution_count": 80,
     "metadata": {},
     "output_type": "execute_result"
    }
   ],
   "source": [
    "corp.isnull().sum()"
   ]
  },
  {
   "cell_type": "code",
   "execution_count": 75,
   "metadata": {},
   "outputs": [
    {
     "data": {
      "text/plain": [
       "회차               0\n",
       "등록일              0\n",
       "유동자산            72\n",
       "비유동자산           83\n",
       "자산총계            19\n",
       "유동부채            75\n",
       "비유동부채          132\n",
       "부채총계            14\n",
       "자본금            182\n",
       "이익잉여금(결손금)    1679\n",
       "자본총계            56\n",
       "bizr_no          0\n",
       "dtype: int64"
      ]
     },
     "execution_count": 75,
     "metadata": {},
     "output_type": "execute_result"
    }
   ],
   "source": [
    "df3.isnull().sum()"
   ]
  },
  {
   "cell_type": "code",
   "execution_count": 83,
   "metadata": {},
   "outputs": [],
   "source": [
    "# 기업개황에서 사업자등록번호가 null인 행 삭제\n",
    "corp2 = corp.dropna(subset=['bizr_no'])"
   ]
  },
  {
   "cell_type": "code",
   "execution_count": 84,
   "metadata": {},
   "outputs": [
    {
     "data": {
      "text/plain": [
       "Unnamed: 0              0\n",
       "corp_code               0\n",
       "corp_name               0\n",
       "corp_name_eng        1523\n",
       "jurir_no             1635\n",
       "bizr_no                 0\n",
       "adres                   1\n",
       "hm_url              53192\n",
       "country_code            0\n",
       "phn_no                160\n",
       "country_code_fax        0\n",
       "fax_no              13586\n",
       "induty_code           210\n",
       "est_dt                255\n",
       "acc_mt                 70\n",
       "dtype: int64"
      ]
     },
     "execution_count": 84,
     "metadata": {},
     "output_type": "execute_result"
    }
   ],
   "source": [
    "corp2.isnull().sum()"
   ]
  },
  {
   "cell_type": "code",
   "execution_count": 85,
   "metadata": {},
   "outputs": [
    {
     "data": {
      "text/plain": [
       "80077"
      ]
     },
     "execution_count": 85,
     "metadata": {},
     "output_type": "execute_result"
    }
   ],
   "source": [
    "len(corp2)"
   ]
  },
  {
   "cell_type": "code",
   "execution_count": 86,
   "metadata": {},
   "outputs": [],
   "source": [
    "corp2.to_excel('기업개황_v4.xlsx', encoding='euc-kr')"
   ]
  },
  {
   "cell_type": "markdown",
   "metadata": {},
   "source": [
    "## 대표자"
   ]
  },
  {
   "cell_type": "code",
   "execution_count": 140,
   "metadata": {},
   "outputs": [],
   "source": [
    "ceos = pd.read_excel('/Users/linakim/Desktop/최종프로젝트/데이터_가공/대표자/대표자_v4.xlsx',\n",
    "                    dtype={'corp_code':str})"
   ]
  },
  {
   "cell_type": "code",
   "execution_count": 141,
   "metadata": {},
   "outputs": [
    {
     "data": {
      "text/plain": [
       "Unnamed: 0     0\n",
       "corp_code      0\n",
       "ceo_nm        18\n",
       "dtype: int64"
      ]
     },
     "execution_count": 141,
     "metadata": {},
     "output_type": "execute_result"
    }
   ],
   "source": [
    "ceos.isnull().sum()"
   ]
  },
  {
   "cell_type": "code",
   "execution_count": 142,
   "metadata": {},
   "outputs": [
    {
     "data": {
      "text/plain": [
       "str"
      ]
     },
     "execution_count": 142,
     "metadata": {},
     "output_type": "execute_result"
    }
   ],
   "source": [
    "type(ceos['corp_code'].iloc[0])"
   ]
  },
  {
   "cell_type": "code",
   "execution_count": 128,
   "metadata": {},
   "outputs": [
    {
     "data": {
      "text/plain": [
       "str"
      ]
     },
     "execution_count": 128,
     "metadata": {},
     "output_type": "execute_result"
    }
   ],
   "source": [
    "type(ceos['corp_code'].iloc[0])"
   ]
  },
  {
   "cell_type": "code",
   "execution_count": 124,
   "metadata": {},
   "outputs": [
    {
     "data": {
      "text/plain": [
       "str"
      ]
     },
     "execution_count": 124,
     "metadata": {},
     "output_type": "execute_result"
    }
   ],
   "source": [
    "type(corp['corp_code'].iloc[0])"
   ]
  },
  {
   "cell_type": "code",
   "execution_count": 143,
   "metadata": {},
   "outputs": [],
   "source": [
    "ceos = pd.merge(corp, ceos, how='outer', on='corp_code')"
   ]
  },
  {
   "cell_type": "code",
   "execution_count": 144,
   "metadata": {},
   "outputs": [],
   "source": [
    "ceos = ceos.drop(['Unnamed: 0_x', 'Unnamed: 0_y', 'corp_name', 'adres', 'hm_url', \n",
    "              'country_code', 'phn_no', 'fax_no', 'country_code_fax', 'induty_code', 'est_dt', \n",
    "              'acc_mt', 'corp_name_eng', 'jurir_no', 'corp_code'], axis=1)  "
   ]
  },
  {
   "cell_type": "code",
   "execution_count": 116,
   "metadata": {},
   "outputs": [],
   "source": []
  },
  {
   "cell_type": "code",
   "execution_count": 136,
   "metadata": {},
   "outputs": [
    {
     "data": {
      "text/html": [
       "<div>\n",
       "<style scoped>\n",
       "    .dataframe tbody tr th:only-of-type {\n",
       "        vertical-align: middle;\n",
       "    }\n",
       "\n",
       "    .dataframe tbody tr th {\n",
       "        vertical-align: top;\n",
       "    }\n",
       "\n",
       "    .dataframe thead th {\n",
       "        text-align: right;\n",
       "    }\n",
       "</style>\n",
       "<table border=\"1\" class=\"dataframe\">\n",
       "  <thead>\n",
       "    <tr style=\"text-align: right;\">\n",
       "      <th></th>\n",
       "      <th>bizr_no</th>\n",
       "      <th>ceo_nm</th>\n",
       "    </tr>\n",
       "  </thead>\n",
       "  <tbody>\n",
       "    <tr>\n",
       "      <th>0</th>\n",
       "      <td>3128134722</td>\n",
       "      <td>김상규</td>\n",
       "    </tr>\n",
       "    <tr>\n",
       "      <th>1</th>\n",
       "      <td>2248105027</td>\n",
       "      <td>이광선</td>\n",
       "    </tr>\n",
       "    <tr>\n",
       "      <th>2</th>\n",
       "      <td>1048177488</td>\n",
       "      <td>정진형</td>\n",
       "    </tr>\n",
       "    <tr>\n",
       "      <th>3</th>\n",
       "      <td>6168120149</td>\n",
       "      <td>정우석</td>\n",
       "    </tr>\n",
       "    <tr>\n",
       "      <th>4</th>\n",
       "      <td>1078608501</td>\n",
       "      <td>배경오</td>\n",
       "    </tr>\n",
       "  </tbody>\n",
       "</table>\n",
       "</div>"
      ],
      "text/plain": [
       "      bizr_no ceo_nm\n",
       "0  3128134722    김상규\n",
       "1  2248105027    이광선\n",
       "2  1048177488    정진형\n",
       "3  6168120149    정우석\n",
       "4  1078608501    배경오"
      ]
     },
     "execution_count": 136,
     "metadata": {},
     "output_type": "execute_result"
    }
   ],
   "source": [
    "ceos.head()"
   ]
  },
  {
   "cell_type": "code",
   "execution_count": 145,
   "metadata": {},
   "outputs": [
    {
     "data": {
      "text/plain": [
       "84797"
      ]
     },
     "execution_count": 145,
     "metadata": {},
     "output_type": "execute_result"
    }
   ],
   "source": [
    "len(ceos)"
   ]
  },
  {
   "cell_type": "code",
   "execution_count": 146,
   "metadata": {},
   "outputs": [
    {
     "data": {
      "text/plain": [
       "bizr_no    901\n",
       "ceo_nm      19\n",
       "dtype: int64"
      ]
     },
     "execution_count": 146,
     "metadata": {},
     "output_type": "execute_result"
    }
   ],
   "source": [
    "ceos.isnull().sum()"
   ]
  },
  {
   "cell_type": "code",
   "execution_count": 150,
   "metadata": {},
   "outputs": [],
   "source": [
    "# 대표자에서 사업자등록번호가 null인 행 삭제\n",
    "ceos2 = ceos.dropna()"
   ]
  },
  {
   "cell_type": "code",
   "execution_count": 151,
   "metadata": {},
   "outputs": [
    {
     "data": {
      "text/plain": [
       "bizr_no    0\n",
       "ceo_nm     0\n",
       "dtype: int64"
      ]
     },
     "execution_count": 151,
     "metadata": {},
     "output_type": "execute_result"
    }
   ],
   "source": [
    "ceos2.isnull().sum()"
   ]
  },
  {
   "cell_type": "code",
   "execution_count": 152,
   "metadata": {},
   "outputs": [
    {
     "data": {
      "text/plain": [
       "83880"
      ]
     },
     "execution_count": 152,
     "metadata": {},
     "output_type": "execute_result"
    }
   ],
   "source": [
    "len(ceos2)"
   ]
  },
  {
   "cell_type": "code",
   "execution_count": 153,
   "metadata": {},
   "outputs": [],
   "source": [
    "ceos2.to_excel('대표자_v5.xlsx', encoding='euc-kr')"
   ]
  },
  {
   "cell_type": "code",
   "execution_count": null,
   "metadata": {},
   "outputs": [],
   "source": []
  }
 ],
 "metadata": {
  "kernelspec": {
   "display_name": "Python 3",
   "language": "python",
   "name": "python3"
  },
  "language_info": {
   "codemirror_mode": {
    "name": "ipython",
    "version": 3
   },
   "file_extension": ".py",
   "mimetype": "text/x-python",
   "name": "python",
   "nbconvert_exporter": "python",
   "pygments_lexer": "ipython3",
   "version": "3.7.7"
  }
 },
 "nbformat": 4,
 "nbformat_minor": 4
}
