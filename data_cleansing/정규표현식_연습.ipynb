{
 "cells": [
  {
   "cell_type": "markdown",
   "metadata": {},
   "source": [
    "# 정규표현식 예제\n",
    "- Regex를 위한 모듈인 re 모듈 활용\n",
    "- re 모듈의 compile 함수 : 정규식 패턴을 입력으로 받아들여 정규식 객체를 리턴\n",
    "- search() 메소드 : 처음 매칭되는 문자열만 리턴. 검색 대상이 있으면 결과를 갖는 MatchObject 객체 리턴, 없으면 none 리턴\n",
    "- findall() 메소드 : 매칭되는 모든 경우를 리턴\n",
    "- group() 메소드 : MatchObj 객체로부터 실제 결과 문자열을 얻기위함\n",
    "\n"
   ]
  },
  {
   "cell_type": "code",
   "execution_count": 1,
   "metadata": {},
   "outputs": [
    {
     "name": "stdout",
     "output_type": "stream",
     "text": [
      "에러 1033\n"
     ]
    }
   ],
   "source": [
    "import re\n",
    "text = \"에러 1122 : 레퍼런스 오류\\n 에러 1033: 아규먼트 오류\"\n",
    "regex = re.compile(\"에러 1033\")\n",
    "mo = regex.search(text)\n",
    "if mo != None:\n",
    "    print(mo.group())"
   ]
  },
  {
   "cell_type": "markdown",
   "metadata": {},
   "source": [
    "## 전화번호 발췌\n",
    "- 특정 패턴의 문자열 검색하기\n",
    "- 전화번호의 패턴 : 3자리-3자리-4자리 / 3자리-4자리-4자리\n",
    "- \\d : 숫자 (0 ~ 9)"
   ]
  },
  {
   "cell_type": "code",
   "execution_count": 2,
   "metadata": {},
   "outputs": [
    {
     "name": "stdout",
     "output_type": "stream",
     "text": [
      "032-232-3245\n"
     ]
    }
   ],
   "source": [
    "text = \"문의사항이 있으면 032-232-3245으로 연락주시기 바랍니다.\"\n",
    "\n",
    "regex = re.compile(r'\\d\\d\\d-\\d\\d\\d-\\d\\d\\d\\d')\n",
    "matchobj = regex.search(text)\n",
    "phonenumber = matchobj.group()\n",
    "print(phonenumber)"
   ]
  },
  {
   "cell_type": "markdown",
   "metadata": {},
   "source": [
    "## 다양한 정규표현식\n",
    "\n",
    "- ^\t이 패턴으로 시작해야 함\t^abc : abc로 시작해야 함 (abcd, abc12 등)\n",
    "- $\t이 패턴으로 종료되어야 함\txyz$ : xyz로 종료되어야 함 (123xyz, strxyz 등)\n",
    "- [문자들]\t문자들 중에 하나이어야 함. 가능한 문자들의 집합을 정의함.\t[Pp]ython : \"Python\" 혹은 \"python\"\n",
    "- [^문자들]\t[문자들]의 반대로 피해야할 문자들의 집합을 정의함.\t[^aeiou] : 소문자 모음이 아닌 문자들\n",
    "- |\t두 패턴 중 하나이어야 함 (OR 기능)\ta | b : a 또는 b 이어야 함\n",
    "- ?\t앞 패턴이 없거나 하나이어야 함 (Optional 패턴을 정의할 때 사용)\t\\d? : 숫자가 하나 있거나 없어야 함\n",
    "- '+'\t앞 패턴이 하나 이상이어야 함\t\\d+ : 숫자가 하나 이상이어야 함\n",
    "- '*'\t앞 패턴이 0개 이상이어야 함\t\\d* : 숫자가 없거나 하나 이상이어야 함\n",
    "- 패턴{n}\t앞 패턴이 n번 반복해서 나타나는 경우\t\\d{3} : 숫자가 3개 있어야 함\n",
    "- 패턴{n, m}\t앞 패턴이 최소 n번, 최대 m 번 반복해서 나타나는 경우 (n 또는 m 은 생략 가능)\t\\d{3,5} : 숫자가 3개, 4개 혹은 5개 있어야 함\n",
    "- \\d\t숫자 0 ~ 9\t\\d\\d\\d : 0 ~ 9 범위의 숫자가 3개를 의미 (123, 000 등)\n",
    "- \\w\t문자를 의미\t\\w\\w\\w : 문자가 3개를 의미 (xyz, ABC 등)\n",
    "- \\s\t화이트 스페이스를 의미하는데, [\\t\\n\\r\\f] 와 동일\t\\s\\s : 화이트 스페이스 문자 2개 의미 (\\r\\n, \\t\\t 등)\n",
    "- .\t뉴라인(\\n) 을 제외한 모든 문자를 의미\t.{3} : 문자 3개 (F15, 0x0 등)\n"
   ]
  },
  {
   "cell_type": "code",
   "execution_count": null,
   "metadata": {},
   "outputs": [],
   "source": []
  }
 ],
 "metadata": {
  "kernelspec": {
   "display_name": "Python 3",
   "language": "python",
   "name": "python3"
  },
  "language_info": {
   "codemirror_mode": {
    "name": "ipython",
    "version": 3
   },
   "file_extension": ".py",
   "mimetype": "text/x-python",
   "name": "python",
   "nbconvert_exporter": "python",
   "pygments_lexer": "ipython3",
   "version": "3.7.7"
  }
 },
 "nbformat": 4,
 "nbformat_minor": 4
}
