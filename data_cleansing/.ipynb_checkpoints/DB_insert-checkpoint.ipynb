{
 "cells": [
  {
   "cell_type": "markdown",
   "metadata": {},
   "source": [
    "# DB에 데이터 넣기 \n",
    "## 기업개황"
   ]
  },
  {
   "cell_type": "code",
   "execution_count": 1,
   "metadata": {},
   "outputs": [],
   "source": [
    "import pandas as pd\n",
    "from urllib.request import urlopen\n",
    "from bs4 import BeautifulSoup\n",
    "import requests\n",
    "import cx_Oracle\n",
    "import datetime\n",
    "import numpy"
   ]
  },
  {
   "cell_type": "code",
   "execution_count": 2,
   "metadata": {},
   "outputs": [],
   "source": [
    "df = pd.read_excel('/Users/linakim/Desktop/최종프로젝트/데이터_가공/기업개황/기업개황_v3.xlsx',\n",
    "                  dtype={'corp_code':str, 'bizr_no' : str, 'jurir_no' : str, 'country_code':str, \n",
    "                               'phn_no':str, 'country_code_fax':str, 'fax_no':str,\n",
    "                        'est_dt':str, 'acc_mt':str},\n",
    "                        index=False)"
   ]
  },
  {
   "cell_type": "code",
   "execution_count": null,
   "metadata": {},
   "outputs": [],
   "source": [
    "df.head()"
   ]
  },
  {
   "cell_type": "code",
   "execution_count": null,
   "metadata": {},
   "outputs": [],
   "source": [
    "df = df.drop(['Unnamed: 0'], axis=1)"
   ]
  },
  {
   "cell_type": "code",
   "execution_count": null,
   "metadata": {},
   "outputs": [],
   "source": [
    "df = df.where(df.notnull(), None)"
   ]
  },
  {
   "cell_type": "code",
   "execution_count": null,
   "metadata": {},
   "outputs": [],
   "source": [
    "df.isnull().sum()"
   ]
  },
  {
   "cell_type": "code",
   "execution_count": null,
   "metadata": {},
   "outputs": [],
   "source": [
    "df = df.dropna(subset=['bizr_no'])"
   ]
  },
  {
   "cell_type": "code",
   "execution_count": null,
   "metadata": {},
   "outputs": [],
   "source": [
    "df2 = df.drop_duplicates(['bizr_no'])"
   ]
  },
  {
   "cell_type": "code",
   "execution_count": null,
   "metadata": {},
   "outputs": [],
   "source": [
    "len(df2)"
   ]
  },
  {
   "cell_type": "markdown",
   "metadata": {},
   "source": [
    "### 데이터 업데이트를 위한 df 만들기"
   ]
  },
  {
   "cell_type": "code",
   "execution_count": null,
   "metadata": {},
   "outputs": [],
   "source": [
    "df_corp_code = df2[['corp_code', 'bizr_no']]\n",
    "df_corp_code.head(10)"
   ]
  },
  {
   "cell_type": "code",
   "execution_count": null,
   "metadata": {},
   "outputs": [],
   "source": [
    "for i in range(len(df_corp_code)):\n",
    "    kk = df_corp_code.iloc[i]\n",
    "    sql_insert = \"update corp set corp_code = :a where bizr_no = :b\"\n",
    "    cursor.execute(sql_insert, a=kk[0], b=kk[1])\n",
    "    print(i)"
   ]
  },
  {
   "cell_type": "code",
   "execution_count": null,
   "metadata": {},
   "outputs": [],
   "source": []
  },
  {
   "cell_type": "code",
   "execution_count": null,
   "metadata": {},
   "outputs": [],
   "source": []
  },
  {
   "cell_type": "code",
   "execution_count": null,
   "metadata": {},
   "outputs": [],
   "source": [
    "db = cx_Oracle.connect(\"SCOTT\", \"tiger\", \"localhost:1521/orcl\")\n",
    "cursor = db.cursor()"
   ]
  },
  {
   "cell_type": "code",
   "execution_count": null,
   "metadata": {},
   "outputs": [],
   "source": [
    "for i in range(len(df2)):\n",
    "    kk = df2.iloc[i]\n",
    "    if(kk[12] != None and len(kk[12]) != 8):\n",
    "        kk[12] = None"
   ]
  },
  {
   "cell_type": "code",
   "execution_count": null,
   "metadata": {},
   "outputs": [],
   "source": [
    "for i in range(len(df2)):\n",
    "    kk = df2.iloc[i]\n",
    "    sql_insert = \"insert into corp(bizr_no, name, name_eng, jurir_no, corp_cls, induty_code, adres, hm_url, country_code, phn_no, country_code_fax, fax_no, est_dt, acc_mt) values(:a, :b, :c, :d, :e, :f,:g,:h,:i,:j,:k,:l,to_date(:m, 'yyyymmdd'), :n)\"\n",
    "    cursor.execute(sql_insert, a=kk[0], b=kk[1], c=kk[2] ,d=kk[3], e=kk[4],f=kk[5],g=kk[6],h=kk[7],i=kk[8],j=kk[9],k=kk[10],l=kk[11],m=kk[12],n=kk[13])\n",
    "    print(i)"
   ]
  },
  {
   "cell_type": "code",
   "execution_count": null,
   "metadata": {},
   "outputs": [],
   "source": [
    "kk = df2.iloc[62]\n",
    "sql_insert = \"insert into corp(bizr_no, name, name_eng, jurir_no, corp_cls, induty_code, adres, hm_url, country_code, phn_no, country_code_fax, fax_no, est_dt, acc_mt) values(:a, :b, :c, :d, :e, :f,:g,:h,:i,:j,:k,:l,to_date(:m, 'yyyy-mm-dd'), :n)\"\n",
    "cursor.execute(sql_insert, a=kk[0], b=kk[1], c=kk[2] ,d=kk[3], e=kk[4],f=kk[5],g=kk[6],h=kk[7],i=kk[8],j=kk[9],k=kk[10],l=kk[11],m=kk[12],n=kk[13])"
   ]
  },
  {
   "cell_type": "code",
   "execution_count": null,
   "metadata": {},
   "outputs": [],
   "source": [
    "for i in range(len(df2)):\n",
    "    kk = df2.iloc[i]\n",
    "    if(kk[12] != None and len(kk[12]) != 8):\n",
    "        print(kk[12])"
   ]
  },
  {
   "cell_type": "code",
   "execution_count": null,
   "metadata": {},
   "outputs": [],
   "source": [
    "db.commit()"
   ]
  },
  {
   "cell_type": "code",
   "execution_count": null,
   "metadata": {},
   "outputs": [],
   "source": [
    "cursor.close()"
   ]
  },
  {
   "cell_type": "code",
   "execution_count": 3,
   "metadata": {},
   "outputs": [
    {
     "ename": "NameError",
     "evalue": "name 'db' is not defined",
     "output_type": "error",
     "traceback": [
      "\u001b[0;31m---------------------------------------------------------------------------\u001b[0m",
      "\u001b[0;31mNameError\u001b[0m                                 Traceback (most recent call last)",
      "\u001b[0;32m<ipython-input-3-168085b004b5>\u001b[0m in \u001b[0;36m<module>\u001b[0;34m\u001b[0m\n\u001b[0;32m----> 1\u001b[0;31m \u001b[0mdb\u001b[0m\u001b[0;34m.\u001b[0m\u001b[0mclose\u001b[0m\u001b[0;34m(\u001b[0m\u001b[0;34m)\u001b[0m\u001b[0;34m\u001b[0m\u001b[0;34m\u001b[0m\u001b[0m\n\u001b[0m",
      "\u001b[0;31mNameError\u001b[0m: name 'db' is not defined"
     ]
    }
   ],
   "source": [
    "db.close()"
   ]
  },
  {
   "cell_type": "markdown",
   "metadata": {},
   "source": [
    "## 손익계산서"
   ]
  },
  {
   "cell_type": "code",
   "execution_count": null,
   "metadata": {},
   "outputs": [],
   "source": [
    "icm = pd.read_excel('/Users/linakim/Desktop/최종프로젝트/데이터_가공/손익계산서/손익계산서_v4.xlsx', \n",
    "                   dtype={'bizr_no':str, '등록일': str},\n",
    "                        index=False)"
   ]
  },
  {
   "cell_type": "code",
   "execution_count": null,
   "metadata": {},
   "outputs": [],
   "source": [
    "type(icm['수익(매출액)'][0])"
   ]
  },
  {
   "cell_type": "code",
   "execution_count": null,
   "metadata": {},
   "outputs": [],
   "source": [
    "icm = icm.drop(['Unnamed: 0'], axis=1)"
   ]
  },
  {
   "cell_type": "code",
   "execution_count": null,
   "metadata": {},
   "outputs": [],
   "source": [
    "\n",
    "for i in range(len(icm)):\n",
    "    kk = icm.iloc[i]\n",
    "    if(kk[2] != None and len(kk[2]) != 8):\n",
    "        kk[2] = None"
   ]
  },
  {
   "cell_type": "code",
   "execution_count": null,
   "metadata": {},
   "outputs": [],
   "source": [
    "icm.head()"
   ]
  },
  {
   "cell_type": "code",
   "execution_count": null,
   "metadata": {},
   "outputs": [],
   "source": [
    "icm = icm.where(icm.notnull(), None)"
   ]
  },
  {
   "cell_type": "code",
   "execution_count": null,
   "metadata": {},
   "outputs": [],
   "source": [
    "def InConverter(value):\n",
    "    return int(value)  # or whatever is needed to convert from numpy.int64 to an integer\n",
    "\n",
    "def InputTypeHandler(cursor, value, num_elements):\n",
    "    if isinstance(value, numpy.int64):\n",
    "        return cursor.var(int, arraysize=num_elements, inconverter=InConverter)\n",
    "\n",
    "cursor.inputtypehandler = InputTypeHandler"
   ]
  },
  {
   "cell_type": "code",
   "execution_count": null,
   "metadata": {},
   "outputs": [],
   "source": [
    "db = cx_Oracle.connect(\"SCOTT\", \"tiger\", \"localhost:1521/orcl\")\n",
    "cursor = db.cursor()"
   ]
  },
  {
   "cell_type": "code",
   "execution_count": null,
   "metadata": {},
   "outputs": [],
   "source": [
    "for i in range(len(icm)):\n",
    "    kk = icm.iloc[i]\n",
    "    sql_insert = \"insert into icm_stmt(bizr_no, turn, issue_date, sales, busi_profits, net_incm) values(:a, :b, to_date(:c, 'yyyymmdd'), :d, :e, :f)\"\n",
    "    cursor.execute(sql_insert, a=kk[0], b=kk[1], c=kk[2] ,d=kk[3], e=kk[4],f=kk[5])\n",
    "    print(i)"
   ]
  },
  {
   "cell_type": "code",
   "execution_count": null,
   "metadata": {},
   "outputs": [],
   "source": [
    "db.commit()"
   ]
  },
  {
   "cell_type": "code",
   "execution_count": null,
   "metadata": {},
   "outputs": [],
   "source": [
    "cursor.close()\n",
    "db.close()"
   ]
  },
  {
   "cell_type": "markdown",
   "metadata": {},
   "source": [
    "## 현금흐름표 "
   ]
  },
  {
   "cell_type": "code",
   "execution_count": null,
   "metadata": {},
   "outputs": [],
   "source": []
  },
  {
   "cell_type": "code",
   "execution_count": null,
   "metadata": {},
   "outputs": [],
   "source": [
    "cashflow = pd.read_excel('/Users/linakim/Desktop/최종프로젝트/데이터_가공/현금흐름표/현금흐름표_v4.xlsx', \n",
    "                   dtype={'bizr_no':str, '등록일': str},\n",
    "                        index=False)"
   ]
  },
  {
   "cell_type": "code",
   "execution_count": null,
   "metadata": {},
   "outputs": [],
   "source": [
    "type(cashflow['수익(매출액)'][0])"
   ]
  },
  {
   "cell_type": "code",
   "execution_count": null,
   "metadata": {},
   "outputs": [],
   "source": [
    "cashflow = cashflow.drop(['idx'], axis=1)"
   ]
  },
  {
   "cell_type": "code",
   "execution_count": null,
   "metadata": {},
   "outputs": [],
   "source": [
    "\n",
    "for i in range(len(cashflow)):\n",
    "    kk = cashflow.iloc[i]\n",
    "    if(kk[2] != None and len(kk[2]) != 8):\n",
    "        kk[2] = None"
   ]
  },
  {
   "cell_type": "code",
   "execution_count": null,
   "metadata": {},
   "outputs": [],
   "source": [
    "cashflow.head()"
   ]
  },
  {
   "cell_type": "code",
   "execution_count": null,
   "metadata": {},
   "outputs": [],
   "source": [
    "cashflow = cashflow.where(cashflow.notnull(), None)"
   ]
  },
  {
   "cell_type": "code",
   "execution_count": null,
   "metadata": {},
   "outputs": [],
   "source": [
    "def InConverter(value):\n",
    "    return int(value)  # or whatever is needed to convert from numpy.int64 to an integer\n",
    "\n",
    "def InputTypeHandler(cursor, value, num_elements):\n",
    "    if isinstance(value, numpy.int64):\n",
    "        return cursor.var(int, arraysize=num_elements, inconverter=InConverter)\n",
    "\n",
    "cursor.inputtypehandler = InputTypeHandler"
   ]
  },
  {
   "cell_type": "code",
   "execution_count": null,
   "metadata": {},
   "outputs": [],
   "source": [
    "db = cx_Oracle.connect(\"SCOTT\", \"tiger\", \"localhost:1521/orcl\")\n",
    "cursor = db.cursor()"
   ]
  },
  {
   "cell_type": "code",
   "execution_count": null,
   "metadata": {},
   "outputs": [],
   "source": [
    "for i in range(len(cashflow)):\n",
    "    kk = cashflow.iloc[i]\n",
    "    sql_insert = \"insert into cash_flow(bizr_no, turn, issue_date, sales_cf, fin_cf, INVST_CF) values(:a, :b, to_date(:c, 'yyyymmdd'), :d, :e, :f)\"\n",
    "    cursor.execute(sql_insert, a=kk[0], b=kk[1], c=kk[2] ,d=kk[3], e=kk[4],f=kk[5])\n",
    "    print(i)"
   ]
  },
  {
   "cell_type": "code",
   "execution_count": null,
   "metadata": {},
   "outputs": [],
   "source": [
    "db.commit()"
   ]
  },
  {
   "cell_type": "code",
   "execution_count": null,
   "metadata": {},
   "outputs": [],
   "source": [
    "cursor.close()\n",
    "db.close()"
   ]
  },
  {
   "cell_type": "markdown",
   "metadata": {},
   "source": [
    "## 재무상태표"
   ]
  },
  {
   "cell_type": "code",
   "execution_count": null,
   "metadata": {},
   "outputs": [],
   "source": []
  },
  {
   "cell_type": "code",
   "execution_count": null,
   "metadata": {},
   "outputs": [],
   "source": [
    "fsstatus = pd.read_excel('/Users/linakim/Desktop/최종프로젝트/데이터_가공/재무상태표/재무상태표_v4.xlsx', \n",
    "                   dtype={'bizr_no':str, '등록일': str},\n",
    "                        index=False)"
   ]
  },
  {
   "cell_type": "code",
   "execution_count": null,
   "metadata": {},
   "outputs": [],
   "source": [
    "type(fsstatus['수익(매출액)'][0])"
   ]
  },
  {
   "cell_type": "code",
   "execution_count": null,
   "metadata": {},
   "outputs": [],
   "source": [
    "fsstatus = fsstatus.drop(['Unnamed: 0'], axis=1)"
   ]
  },
  {
   "cell_type": "code",
   "execution_count": null,
   "metadata": {},
   "outputs": [],
   "source": [
    "\n",
    "for i in range(len(fsstatus)):\n",
    "    kk = fsstatus.iloc[i]\n",
    "    if(kk[2] != None and len(kk[2]) != 8):\n",
    "        kk[2] = None"
   ]
  },
  {
   "cell_type": "code",
   "execution_count": null,
   "metadata": {},
   "outputs": [],
   "source": [
    "fsstatus.head()"
   ]
  },
  {
   "cell_type": "code",
   "execution_count": null,
   "metadata": {},
   "outputs": [],
   "source": [
    "fsstatus = fsstatus.where(fsstatus.notnull(), None)"
   ]
  },
  {
   "cell_type": "code",
   "execution_count": null,
   "metadata": {},
   "outputs": [],
   "source": [
    "def InConverter(value):\n",
    "    return int(value)  # or whatever is needed to convert from numpy.int64 to an integer\n",
    "\n",
    "def InputTypeHandler(cursor, value, num_elements):\n",
    "    if isinstance(value, numpy.int64):\n",
    "        return cursor.var(int, arraysize=num_elements, inconverter=InConverter)\n",
    "\n",
    "cursor.inputtypehandler = InputTypeHandler"
   ]
  },
  {
   "cell_type": "code",
   "execution_count": null,
   "metadata": {},
   "outputs": [],
   "source": [
    "db = cx_Oracle.connect(\"SCOTT\", \"tiger\", \"localhost:1521/orcl\")\n",
    "cursor = db.cursor()"
   ]
  },
  {
   "cell_type": "code",
   "execution_count": null,
   "metadata": {},
   "outputs": [],
   "source": [
    "for i in range(len(fsstatus)):\n",
    "    kk = fsstatus.iloc[i]\n",
    "    sql_insert = \"insert into fs_status(bizr_no, turn, issue_date, CURR_AST, NON_CURR_AST, TTL_AST, CURR_LIAB, NON_CURR_LIAB, TTL_LIAB, CAPITAL, ERND_SPLUS, TTL_CAPITAL) values(:a, :b, to_date(:c, 'yyyymmdd'), :d, :e, :f, :g, :h, :i, :j, :k, :l)\"\n",
    "    cursor.execute(sql_insert, a=kk[0], b=kk[1], c=kk[2] ,d=kk[3], e=kk[4],f=kk[5], g=kk[6], h=kk[7], i=kk[8], j=kk[9], k=kk[10], l=kk[11])\n",
    "    print(i)"
   ]
  },
  {
   "cell_type": "code",
   "execution_count": null,
   "metadata": {},
   "outputs": [],
   "source": [
    "db.commit()"
   ]
  },
  {
   "cell_type": "code",
   "execution_count": null,
   "metadata": {},
   "outputs": [],
   "source": [
    "cursor.close()\n",
    "db.close()"
   ]
  },
  {
   "cell_type": "markdown",
   "metadata": {},
   "source": [
    "## 대표자"
   ]
  },
  {
   "cell_type": "code",
   "execution_count": null,
   "metadata": {},
   "outputs": [],
   "source": [
    "rep = pd.read_excel('/Users/linakim/Desktop/최종프로젝트/데이터_가공/대표자/대표자_v5.xlsx', \n",
    "                   dtype={'bizr_no':str, 'ceo_nm': str},\n",
    "                        index=False)"
   ]
  },
  {
   "cell_type": "code",
   "execution_count": null,
   "metadata": {},
   "outputs": [],
   "source": [
    "type(rep['수익(매출액)'][0])"
   ]
  },
  {
   "cell_type": "code",
   "execution_count": null,
   "metadata": {},
   "outputs": [],
   "source": [
    "rep = rep.drop(['Unnamed: 0'], axis=1)"
   ]
  },
  {
   "cell_type": "code",
   "execution_count": null,
   "metadata": {},
   "outputs": [],
   "source": [
    "\n",
    "for i in range(len(rep)):\n",
    "    kk = rep.iloc[i]\n",
    "    if(kk[2] != None and len(kk[2]) != 8):\n",
    "        kk[2] = None"
   ]
  },
  {
   "cell_type": "code",
   "execution_count": null,
   "metadata": {},
   "outputs": [],
   "source": [
    "rep.head()"
   ]
  },
  {
   "cell_type": "code",
   "execution_count": null,
   "metadata": {},
   "outputs": [],
   "source": [
    "rep = rep.where(rep.notnull(), None)"
   ]
  },
  {
   "cell_type": "code",
   "execution_count": null,
   "metadata": {},
   "outputs": [],
   "source": [
    "rep = rep.drop_duplicates()"
   ]
  },
  {
   "cell_type": "code",
   "execution_count": null,
   "metadata": {},
   "outputs": [],
   "source": [
    "def InConverter(value):\n",
    "    return int(value)  # or whatever is needed to convert from numpy.int64 to an integer\n",
    "\n",
    "def InputTypeHandler(cursor, value, num_elements):\n",
    "    if isinstance(value, numpy.int64):\n",
    "        return cursor.var(int, arraysize=num_elements, inconverter=InConverter)\n",
    "\n",
    "cursor.inputtypehandler = InputTypeHandler"
   ]
  },
  {
   "cell_type": "code",
   "execution_count": null,
   "metadata": {},
   "outputs": [],
   "source": [
    "db = cx_Oracle.connect(\"SCOTT\", \"tiger\", \"localhost:1521/orcl\")\n",
    "cursor = db.cursor()"
   ]
  },
  {
   "cell_type": "code",
   "execution_count": null,
   "metadata": {},
   "outputs": [],
   "source": [
    "for i in range(len(rep)):\n",
    "    kk = rep.iloc[i]\n",
    "    sql_insert = \"insert into rep(bizr_no, rep_name) values(:a, :b)\"\n",
    "    cursor.execute(sql_insert, a=kk[0], b=kk[1])\n",
    "    print(i)"
   ]
  },
  {
   "cell_type": "code",
   "execution_count": null,
   "metadata": {},
   "outputs": [],
   "source": [
    "db.commit()"
   ]
  },
  {
   "cell_type": "code",
   "execution_count": null,
   "metadata": {},
   "outputs": [],
   "source": [
    "cursor.close()\n",
    "db.close()"
   ]
  },
  {
   "cell_type": "code",
   "execution_count": null,
   "metadata": {},
   "outputs": [],
   "source": [
    "rep.iloc[3496]"
   ]
  },
  {
   "cell_type": "markdown",
   "metadata": {},
   "source": [
    "## 대출상품 넣기 "
   ]
  },
  {
   "cell_type": "code",
   "execution_count": null,
   "metadata": {},
   "outputs": [],
   "source": [
    "loanProd = pd.read_excel('/Users/linakim/Desktop/최종프로젝트/데이터_추출/대출상품_v2.xlsx',\n",
    "                        dtype = {\n",
    "                           'interest':float, 'mid_rpy_fee_rate' : int\n",
    "                        }, index=False)"
   ]
  },
  {
   "cell_type": "code",
   "execution_count": null,
   "metadata": {},
   "outputs": [],
   "source": []
  },
  {
   "cell_type": "code",
   "execution_count": null,
   "metadata": {},
   "outputs": [],
   "source": []
  },
  {
   "cell_type": "code",
   "execution_count": null,
   "metadata": {},
   "outputs": [],
   "source": [
    "loanProd.isnull().sum()"
   ]
  },
  {
   "cell_type": "code",
   "execution_count": null,
   "metadata": {},
   "outputs": [],
   "source": [
    "loanProd.head()"
   ]
  },
  {
   "cell_type": "code",
   "execution_count": null,
   "metadata": {},
   "outputs": [],
   "source": []
  },
  {
   "cell_type": "code",
   "execution_count": null,
   "metadata": {},
   "outputs": [],
   "source": []
  },
  {
   "cell_type": "code",
   "execution_count": null,
   "metadata": {},
   "outputs": [],
   "source": [
    "def InConverter(value):\n",
    "    return int(value)  # or whatever is needed to convert from numpy.int64 to an integer\n",
    "\n",
    "def InputTypeHandler(cursor, value, num_elements):\n",
    "    if isinstance(value, numpy.int64):\n",
    "        return cursor.var(int, arraysize=num_elements, inconverter=InConverter)\n",
    "\n",
    "cursor.inputtypehandler = InputTypeHandler"
   ]
  },
  {
   "cell_type": "code",
   "execution_count": null,
   "metadata": {},
   "outputs": [],
   "source": [
    "db = cx_Oracle.connect(\"SCOTT\", \"tiger\", \"localhost:1521/orcl\")\n",
    "cursor = db.cursor()"
   ]
  },
  {
   "cell_type": "code",
   "execution_count": null,
   "metadata": {},
   "outputs": [],
   "source": [
    "for i in range(len(loanProd)):\n",
    "    kk = loanProd.iloc[i]\n",
    "    sql_insert = \"insert into loan_prod values(:a, :b, :c, :d, :e, :f, :g, :h, :i, :j, :k, :l)\"\n",
    "    cursor.execute(sql_insert, a=kk[0], b=kk[1], c=kk[2], d=kk[3], e=kk[4], f=kk[5], g=kk[6], h=kk[7], i=kk[8], j=kk[9], k=kk[10], l=kk[11])\n",
    "    print(i)"
   ]
  },
  {
   "cell_type": "code",
   "execution_count": null,
   "metadata": {},
   "outputs": [],
   "source": [
    "db.commit()"
   ]
  },
  {
   "cell_type": "code",
   "execution_count": null,
   "metadata": {},
   "outputs": [],
   "source": [
    "cursor.close()\n",
    "db.close()"
   ]
  }
 ],
 "metadata": {
  "kernelspec": {
   "display_name": "Python 3",
   "language": "python",
   "name": "python3"
  },
  "language_info": {
   "codemirror_mode": {
    "name": "ipython",
    "version": 3
   },
   "file_extension": ".py",
   "mimetype": "text/x-python",
   "name": "python",
   "nbconvert_exporter": "python",
   "pygments_lexer": "ipython3",
   "version": "3.7.7"
  }
 },
 "nbformat": 4,
 "nbformat_minor": 4
}
