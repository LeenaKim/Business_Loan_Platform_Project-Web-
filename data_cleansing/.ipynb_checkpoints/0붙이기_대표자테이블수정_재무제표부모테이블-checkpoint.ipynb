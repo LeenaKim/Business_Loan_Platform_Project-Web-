{
 "cells": [
  {
   "cell_type": "code",
   "execution_count": 1,
   "metadata": {},
   "outputs": [],
   "source": [
    "import pandas as pd"
   ]
  },
  {
   "cell_type": "markdown",
   "metadata": {},
   "source": [
    "## 손익계산서 기업코드 앞 0 넣기"
   ]
  },
  {
   "cell_type": "code",
   "execution_count": 20,
   "metadata": {},
   "outputs": [],
   "source": [
    "interest = pd.read_csv(\"./손익계산서.csv\")"
   ]
  },
  {
   "cell_type": "code",
   "execution_count": 6,
   "metadata": {},
   "outputs": [
    {
     "data": {
      "text/html": [
       "<div>\n",
       "<style scoped>\n",
       "    .dataframe tbody tr th:only-of-type {\n",
       "        vertical-align: middle;\n",
       "    }\n",
       "\n",
       "    .dataframe tbody tr th {\n",
       "        vertical-align: top;\n",
       "    }\n",
       "\n",
       "    .dataframe thead th {\n",
       "        text-align: right;\n",
       "    }\n",
       "</style>\n",
       "<table border=\"1\" class=\"dataframe\">\n",
       "  <thead>\n",
       "    <tr style=\"text-align: right;\">\n",
       "      <th></th>\n",
       "      <th>Unnamed: 0</th>\n",
       "      <th>기업코드</th>\n",
       "      <th>회차</th>\n",
       "      <th>등록일</th>\n",
       "      <th>수익(매출액)</th>\n",
       "      <th>영업이익(손실)</th>\n",
       "      <th>당기순이익(손실)</th>\n",
       "    </tr>\n",
       "  </thead>\n",
       "  <tbody>\n",
       "    <tr>\n",
       "      <th>0</th>\n",
       "      <td>0</td>\n",
       "      <td>956028</td>\n",
       "      <td>제 16 기</td>\n",
       "      <td>20180420</td>\n",
       "      <td>24,347,218</td>\n",
       "      <td>120,381</td>\n",
       "      <td>-1,629,679</td>\n",
       "    </tr>\n",
       "    <tr>\n",
       "      <th>1</th>\n",
       "      <td>1</td>\n",
       "      <td>1165739</td>\n",
       "      <td>제 3 기</td>\n",
       "      <td>20180430</td>\n",
       "      <td>NaN</td>\n",
       "      <td>-3,982,045</td>\n",
       "      <td>-13,864,646</td>\n",
       "    </tr>\n",
       "    <tr>\n",
       "      <th>2</th>\n",
       "      <td>2</td>\n",
       "      <td>171636</td>\n",
       "      <td>제 53 기</td>\n",
       "      <td>20180402</td>\n",
       "      <td>NaN</td>\n",
       "      <td>14,952,676,720</td>\n",
       "      <td>-143,685,542,254</td>\n",
       "    </tr>\n",
       "    <tr>\n",
       "      <th>3</th>\n",
       "      <td>3</td>\n",
       "      <td>147772</td>\n",
       "      <td>제 49 기</td>\n",
       "      <td>20180330</td>\n",
       "      <td>NaN</td>\n",
       "      <td>NaN</td>\n",
       "      <td>NaN</td>\n",
       "    </tr>\n",
       "    <tr>\n",
       "      <th>4</th>\n",
       "      <td>4</td>\n",
       "      <td>273110</td>\n",
       "      <td>제 29 기</td>\n",
       "      <td>20180402</td>\n",
       "      <td>NaN</td>\n",
       "      <td>-8,455,346,598</td>\n",
       "      <td>-10,797,600,612</td>\n",
       "    </tr>\n",
       "  </tbody>\n",
       "</table>\n",
       "</div>"
      ],
      "text/plain": [
       "   Unnamed: 0     기업코드      회차       등록일     수익(매출액)        영업이익(손실)  \\\n",
       "0           0   956028  제 16 기  20180420  24,347,218         120,381   \n",
       "1           1  1165739   제 3 기  20180430         NaN      -3,982,045   \n",
       "2           2   171636  제 53 기  20180402         NaN  14,952,676,720   \n",
       "3           3   147772  제 49 기  20180330         NaN             NaN   \n",
       "4           4   273110  제 29 기  20180402         NaN  -8,455,346,598   \n",
       "\n",
       "          당기순이익(손실)  \n",
       "0        -1,629,679  \n",
       "1       -13,864,646  \n",
       "2  -143,685,542,254  \n",
       "3               NaN  \n",
       "4   -10,797,600,612  "
      ]
     },
     "execution_count": 6,
     "metadata": {},
     "output_type": "execute_result"
    }
   ],
   "source": [
    "interest.head()"
   ]
  },
  {
   "cell_type": "code",
   "execution_count": 21,
   "metadata": {},
   "outputs": [],
   "source": [
    "interest['기업코드'] = interest['기업코드'].apply(lambda x: \"{:0>8d}\".format(x))"
   ]
  },
  {
   "cell_type": "code",
   "execution_count": 22,
   "metadata": {},
   "outputs": [
    {
     "data": {
      "text/plain": [
       "0    00956028\n",
       "1    01165739\n",
       "2    00171636\n",
       "3    00147772\n",
       "4    00273110\n",
       "Name: 기업코드, dtype: object"
      ]
     },
     "execution_count": 22,
     "metadata": {},
     "output_type": "execute_result"
    }
   ],
   "source": [
    "interest['기업코드'].head()"
   ]
  },
  {
   "cell_type": "code",
   "execution_count": 24,
   "metadata": {},
   "outputs": [],
   "source": [
    "interest.to_excel('손익계산서_v2.xlsx', encoding='euc-kr')"
   ]
  },
  {
   "cell_type": "markdown",
   "metadata": {},
   "source": [
    "## 재무상태표 기업코드 앞 0 넣기 "
   ]
  },
  {
   "cell_type": "code",
   "execution_count": 25,
   "metadata": {},
   "outputs": [],
   "source": [
    "finance = pd.read_csv(\"./재무상태표.csv\")"
   ]
  },
  {
   "cell_type": "code",
   "execution_count": 26,
   "metadata": {},
   "outputs": [],
   "source": [
    "finance['기업코드'] = finance['기업코드'].apply(lambda x: \"{:0>8d}\".format(x))"
   ]
  },
  {
   "cell_type": "code",
   "execution_count": 27,
   "metadata": {},
   "outputs": [
    {
     "data": {
      "text/plain": [
       "0    00956028\n",
       "1    01165739\n",
       "2    00171636\n",
       "3    00147772\n",
       "4    00273110\n",
       "Name: 기업코드, dtype: object"
      ]
     },
     "execution_count": 27,
     "metadata": {},
     "output_type": "execute_result"
    }
   ],
   "source": [
    "finance['기업코드'].head()"
   ]
  },
  {
   "cell_type": "code",
   "execution_count": 28,
   "metadata": {},
   "outputs": [],
   "source": [
    "finance.to_excel('재무상태표_v2.xlsx', encoding='euc-kr')"
   ]
  },
  {
   "cell_type": "markdown",
   "metadata": {},
   "source": [
    "## 현금흐름표 기업코드 앞 0 넣기"
   ]
  },
  {
   "cell_type": "code",
   "execution_count": 29,
   "metadata": {},
   "outputs": [],
   "source": [
    "cash = pd.read_csv(\"./현금흐름표.csv\")"
   ]
  },
  {
   "cell_type": "code",
   "execution_count": 30,
   "metadata": {},
   "outputs": [],
   "source": [
    "cash['기업코드'] = cash['기업코드'].apply(lambda x: \"{:0>8d}\".format(x))"
   ]
  },
  {
   "cell_type": "code",
   "execution_count": 31,
   "metadata": {},
   "outputs": [
    {
     "data": {
      "text/plain": [
       "0    00956028\n",
       "1    01165739\n",
       "2    00171636\n",
       "3    00147772\n",
       "4    00273110\n",
       "Name: 기업코드, dtype: object"
      ]
     },
     "execution_count": 31,
     "metadata": {},
     "output_type": "execute_result"
    }
   ],
   "source": [
    "cash['기업코드'].head()"
   ]
  },
  {
   "cell_type": "code",
   "execution_count": 32,
   "metadata": {},
   "outputs": [],
   "source": [
    "cash.to_excel('현금흐름표_v2.xlsx', encoding='euc-kr')"
   ]
  },
  {
   "cell_type": "markdown",
   "metadata": {},
   "source": [
    "## 대표자 테이블 null값 확인"
   ]
  },
  {
   "cell_type": "code",
   "execution_count": 33,
   "metadata": {},
   "outputs": [],
   "source": [
    "ceo = pd.read_excel('대표자_v4.xlsx')"
   ]
  },
  {
   "cell_type": "code",
   "execution_count": 54,
   "metadata": {},
   "outputs": [
    {
     "data": {
      "text/html": [
       "<div>\n",
       "<style scoped>\n",
       "    .dataframe tbody tr th:only-of-type {\n",
       "        vertical-align: middle;\n",
       "    }\n",
       "\n",
       "    .dataframe tbody tr th {\n",
       "        vertical-align: top;\n",
       "    }\n",
       "\n",
       "    .dataframe thead th {\n",
       "        text-align: right;\n",
       "    }\n",
       "</style>\n",
       "<table border=\"1\" class=\"dataframe\">\n",
       "  <thead>\n",
       "    <tr style=\"text-align: right;\">\n",
       "      <th></th>\n",
       "      <th>Unnamed: 0</th>\n",
       "      <th>corp_code</th>\n",
       "      <th>ceo_nm</th>\n",
       "    </tr>\n",
       "  </thead>\n",
       "  <tbody>\n",
       "    <tr>\n",
       "      <th>0</th>\n",
       "      <td>0</td>\n",
       "      <td>434003</td>\n",
       "      <td>김상규</td>\n",
       "    </tr>\n",
       "    <tr>\n",
       "      <th>1</th>\n",
       "      <td>1</td>\n",
       "      <td>434456</td>\n",
       "      <td>이광선</td>\n",
       "    </tr>\n",
       "    <tr>\n",
       "      <th>2</th>\n",
       "      <td>2</td>\n",
       "      <td>430964</td>\n",
       "      <td>정진형</td>\n",
       "    </tr>\n",
       "    <tr>\n",
       "      <th>3</th>\n",
       "      <td>3</td>\n",
       "      <td>432403</td>\n",
       "      <td>정우석</td>\n",
       "    </tr>\n",
       "    <tr>\n",
       "      <th>4</th>\n",
       "      <td>4</td>\n",
       "      <td>388953</td>\n",
       "      <td>배경오</td>\n",
       "    </tr>\n",
       "  </tbody>\n",
       "</table>\n",
       "</div>"
      ],
      "text/plain": [
       "   Unnamed: 0  corp_code ceo_nm\n",
       "0           0     434003    김상규\n",
       "1           1     434456    이광선\n",
       "2           2     430964    정진형\n",
       "3           3     432403    정우석\n",
       "4           4     388953    배경오"
      ]
     },
     "execution_count": 54,
     "metadata": {},
     "output_type": "execute_result"
    }
   ],
   "source": [
    "ceo.head()"
   ]
  },
  {
   "cell_type": "code",
   "execution_count": 34,
   "metadata": {},
   "outputs": [
    {
     "data": {
      "text/plain": [
       "Unnamed: 0     0\n",
       "corp_code      0\n",
       "ceo_nm        20\n",
       "dtype: int64"
      ]
     },
     "execution_count": 34,
     "metadata": {},
     "output_type": "execute_result"
    }
   ],
   "source": [
    "ceo.isnull().sum()"
   ]
  },
  {
   "cell_type": "code",
   "execution_count": 41,
   "metadata": {},
   "outputs": [],
   "source": [
    "ceo_null = []\n",
    "ceo_null.append(ceo.isnull())"
   ]
  },
  {
   "cell_type": "code",
   "execution_count": 42,
   "metadata": {},
   "outputs": [
    {
     "data": {
      "text/plain": [
       "[       Unnamed: 0  corp_code  ceo_nm\n",
       " 0           False      False   False\n",
       " 1           False      False   False\n",
       " 2           False      False   False\n",
       " 3           False      False   False\n",
       " 4           False      False   False\n",
       " ...           ...        ...     ...\n",
       " 84794       False      False   False\n",
       " 84795       False      False   False\n",
       " 84796       False      False   False\n",
       " 84797       False      False   False\n",
       " 84798       False      False   False\n",
       " \n",
       " [84799 rows x 3 columns]]"
      ]
     },
     "execution_count": 42,
     "metadata": {},
     "output_type": "execute_result"
    }
   ],
   "source": [
    "ceo_null"
   ]
  },
  {
   "cell_type": "code",
   "execution_count": 46,
   "metadata": {},
   "outputs": [
    {
     "data": {
      "text/plain": [
       "True"
      ]
     },
     "execution_count": 46,
     "metadata": {},
     "output_type": "execute_result"
    }
   ],
   "source": [
    "ceo[\"ceo_nm\"].isnull().values.any()"
   ]
  },
  {
   "cell_type": "code",
   "execution_count": 48,
   "metadata": {},
   "outputs": [],
   "source": [
    "ceo_null_idx = ceo[ceo['ceo_nm'].isnull()].index.tolist()"
   ]
  },
  {
   "cell_type": "code",
   "execution_count": 49,
   "metadata": {},
   "outputs": [
    {
     "data": {
      "text/plain": [
       "[1590,\n",
       " 2082,\n",
       " 2098,\n",
       " 2238,\n",
       " 2251,\n",
       " 2404,\n",
       " 2535,\n",
       " 2536,\n",
       " 2546,\n",
       " 2967,\n",
       " 2970,\n",
       " 3029,\n",
       " 3032,\n",
       " 3050,\n",
       " 3816,\n",
       " 3981,\n",
       " 18226,\n",
       " 24178,\n",
       " 78716,\n",
       " 78717]"
      ]
     },
     "execution_count": 49,
     "metadata": {},
     "output_type": "execute_result"
    }
   ],
   "source": [
    "ceo_null_idx"
   ]
  },
  {
   "cell_type": "code",
   "execution_count": 52,
   "metadata": {},
   "outputs": [],
   "source": [
    "ceo_null_corp_code=[]\n",
    "for i in ceo_null_idx:\n",
    "    ceo_null_corp_code.append(ceo['corp_code'].iloc[i])"
   ]
  },
  {
   "cell_type": "code",
   "execution_count": 53,
   "metadata": {},
   "outputs": [
    {
     "data": {
      "text/plain": [
       "[113340,\n",
       " 102803,\n",
       " 190686,\n",
       " 164751,\n",
       " 164803,\n",
       " 260259,\n",
       " 106632,\n",
       " 157797,\n",
       " 103352,\n",
       " 114446,\n",
       " 117319,\n",
       " 272324,\n",
       " 242873,\n",
       " 465881,\n",
       " 260134,\n",
       " 391993,\n",
       " 632881,\n",
       " 420301,\n",
       " 161125,\n",
       " 161125]"
      ]
     },
     "execution_count": 53,
     "metadata": {},
     "output_type": "execute_result"
    }
   ],
   "source": [
    "ceo_null_corp_code"
   ]
  },
  {
   "cell_type": "markdown",
   "metadata": {},
   "source": [
    "밑의 두 기업의 대표는 엑셀에서 삭제함. 형식파괴자라서."
   ]
  },
  {
   "cell_type": "markdown",
   "metadata": {},
   "source": [
    "## 재무제표 부모 테이블 생성"
   ]
  },
  {
   "cell_type": "code",
   "execution_count": 61,
   "metadata": {},
   "outputs": [],
   "source": [
    "parent = pd.DataFrame({\"기업코드\" : cash['기업코드'], \"회차\" : cash['회차'], \"등록일\" : cash['등록일']})"
   ]
  },
  {
   "cell_type": "code",
   "execution_count": 62,
   "metadata": {},
   "outputs": [
    {
     "data": {
      "text/html": [
       "<div>\n",
       "<style scoped>\n",
       "    .dataframe tbody tr th:only-of-type {\n",
       "        vertical-align: middle;\n",
       "    }\n",
       "\n",
       "    .dataframe tbody tr th {\n",
       "        vertical-align: top;\n",
       "    }\n",
       "\n",
       "    .dataframe thead th {\n",
       "        text-align: right;\n",
       "    }\n",
       "</style>\n",
       "<table border=\"1\" class=\"dataframe\">\n",
       "  <thead>\n",
       "    <tr style=\"text-align: right;\">\n",
       "      <th></th>\n",
       "      <th>기업코드</th>\n",
       "      <th>회차</th>\n",
       "      <th>등록일</th>\n",
       "    </tr>\n",
       "  </thead>\n",
       "  <tbody>\n",
       "    <tr>\n",
       "      <th>0</th>\n",
       "      <td>00956028</td>\n",
       "      <td>제 16 기</td>\n",
       "      <td>20180420</td>\n",
       "    </tr>\n",
       "    <tr>\n",
       "      <th>1</th>\n",
       "      <td>01165739</td>\n",
       "      <td>제 3 기</td>\n",
       "      <td>20180430</td>\n",
       "    </tr>\n",
       "    <tr>\n",
       "      <th>2</th>\n",
       "      <td>00171636</td>\n",
       "      <td>제 53 기</td>\n",
       "      <td>20180402</td>\n",
       "    </tr>\n",
       "    <tr>\n",
       "      <th>3</th>\n",
       "      <td>00147772</td>\n",
       "      <td>제 49 기</td>\n",
       "      <td>20180330</td>\n",
       "    </tr>\n",
       "    <tr>\n",
       "      <th>4</th>\n",
       "      <td>00273110</td>\n",
       "      <td>제 29 기</td>\n",
       "      <td>20180402</td>\n",
       "    </tr>\n",
       "  </tbody>\n",
       "</table>\n",
       "</div>"
      ],
      "text/plain": [
       "       기업코드      회차       등록일\n",
       "0  00956028  제 16 기  20180420\n",
       "1  01165739   제 3 기  20180430\n",
       "2  00171636  제 53 기  20180402\n",
       "3  00147772  제 49 기  20180330\n",
       "4  00273110  제 29 기  20180402"
      ]
     },
     "execution_count": 62,
     "metadata": {},
     "output_type": "execute_result"
    }
   ],
   "source": [
    "parent.head()"
   ]
  },
  {
   "cell_type": "code",
   "execution_count": 63,
   "metadata": {},
   "outputs": [
    {
     "data": {
      "text/plain": [
       "5925"
      ]
     },
     "execution_count": 63,
     "metadata": {},
     "output_type": "execute_result"
    }
   ],
   "source": [
    "len(parent)"
   ]
  },
  {
   "cell_type": "code",
   "execution_count": 64,
   "metadata": {},
   "outputs": [],
   "source": [
    "parent.to_excel('재무제표_v1.xlsx', encoding='euc-kr')"
   ]
  },
  {
   "cell_type": "markdown",
   "metadata": {},
   "source": [
    "## 손익계사"
   ]
  }
 ],
 "metadata": {
  "kernelspec": {
   "display_name": "Python 3",
   "language": "python",
   "name": "python3"
  },
  "language_info": {
   "codemirror_mode": {
    "name": "ipython",
    "version": 3
   },
   "file_extension": ".py",
   "mimetype": "text/x-python",
   "name": "python",
   "nbconvert_exporter": "python",
   "pygments_lexer": "ipython3",
   "version": "3.7.7"
  }
 },
 "nbformat": 4,
 "nbformat_minor": 4
}
