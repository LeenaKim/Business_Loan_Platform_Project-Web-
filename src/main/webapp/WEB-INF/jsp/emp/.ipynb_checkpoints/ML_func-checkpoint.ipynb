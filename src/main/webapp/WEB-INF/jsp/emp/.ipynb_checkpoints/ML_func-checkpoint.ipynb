{
 "cells": [
  {
   "cell_type": "code",
   "execution_count": 6,
   "metadata": {},
   "outputs": [
    {
     "name": "stdout",
     "output_type": "stream",
     "text": [
      "number of arguments : 3\n",
      "argument list : ['/usr/local/lib/python3.8/site-packages/ipykernel_launcher.py', '-f', '/Users/linakim/Library/Jupyter/runtime/kernel-08c1f895-cf49-4b80-baa3-6a0691779492.json']\n"
     ]
    },
    {
     "ename": "IndexError",
     "evalue": "list index out of range",
     "output_type": "error",
     "traceback": [
      "\u001b[0;31m---------------------------------------------------------------------------\u001b[0m",
      "\u001b[0;31mIndexError\u001b[0m                                Traceback (most recent call last)",
      "\u001b[0;32m<ipython-input-6-a74d02efd224>\u001b[0m in \u001b[0;36m<module>\u001b[0;34m\u001b[0m\n\u001b[1;32m     25\u001b[0m \u001b[0;34m\u001b[0m\u001b[0m\n\u001b[1;32m     26\u001b[0m \u001b[0;31m# 2.\u001b[0m\u001b[0;34m\u001b[0m\u001b[0;34m\u001b[0m\u001b[0;34m\u001b[0m\u001b[0m\n\u001b[0;32m---> 27\u001b[0;31m \u001b[0mnew_data\u001b[0m \u001b[0;34m=\u001b[0m \u001b[0;34m{\u001b[0m\u001b[0;34m'BUSI_PROFITS'\u001b[0m\u001b[0;34m:\u001b[0m\u001b[0msys\u001b[0m\u001b[0;34m.\u001b[0m\u001b[0margv\u001b[0m\u001b[0;34m[\u001b[0m\u001b[0;36m1\u001b[0m\u001b[0;34m]\u001b[0m\u001b[0;34m,\u001b[0m \u001b[0;34m'NET_INCM'\u001b[0m\u001b[0;34m:\u001b[0m\u001b[0msys\u001b[0m\u001b[0;34m.\u001b[0m\u001b[0margv\u001b[0m\u001b[0;34m[\u001b[0m\u001b[0;36m2\u001b[0m\u001b[0;34m]\u001b[0m\u001b[0;34m,\u001b[0m \u001b[0;34m'TTL_LIAB'\u001b[0m\u001b[0;34m:\u001b[0m\u001b[0msys\u001b[0m\u001b[0;34m.\u001b[0m\u001b[0margv\u001b[0m\u001b[0;34m[\u001b[0m\u001b[0;36m3\u001b[0m\u001b[0;34m]\u001b[0m\u001b[0;34m,\u001b[0m \u001b[0;34m'CREDIT_RNK'\u001b[0m\u001b[0;34m:\u001b[0m\u001b[0mfloat\u001b[0m\u001b[0;34m(\u001b[0m\u001b[0msys\u001b[0m\u001b[0;34m.\u001b[0m\u001b[0margv\u001b[0m\u001b[0;34m[\u001b[0m\u001b[0;36m4\u001b[0m\u001b[0;34m]\u001b[0m\u001b[0;34m)\u001b[0m\u001b[0;34m}\u001b[0m\u001b[0;34m\u001b[0m\u001b[0;34m\u001b[0m\u001b[0m\n\u001b[0m\u001b[1;32m     28\u001b[0m \u001b[0mdf2\u001b[0m \u001b[0;34m=\u001b[0m \u001b[0mdf\u001b[0m\u001b[0;34m.\u001b[0m\u001b[0mappend\u001b[0m\u001b[0;34m(\u001b[0m\u001b[0mnew_data\u001b[0m\u001b[0;34m,\u001b[0m \u001b[0mignore_index\u001b[0m\u001b[0;34m=\u001b[0m\u001b[0;32mTrue\u001b[0m\u001b[0;34m)\u001b[0m\u001b[0;34m\u001b[0m\u001b[0;34m\u001b[0m\u001b[0m\n\u001b[1;32m     29\u001b[0m \u001b[0;34m\u001b[0m\u001b[0m\n",
      "\u001b[0;31mIndexError\u001b[0m: list index out of range"
     ]
    }
   ],
   "source": [
    "# -*- coding: utf-8 -*-\n",
    "import sys\n",
    "import pandas as pd\n",
    "import numpy as np\n",
    "from sklearn.preprocessing import MinMaxScaler\n",
    "import pymysql\n",
    "\n",
    "#def get_interest_ml(param_busi_profits, param_net_incm, param_ttl_liab, param_credit_rnk):\n",
    "print(\"number of arguments :\", len(sys.argv))\n",
    "print(\"argument list :\", str(sys.argv))\n",
    "# 1. \n",
    "db = pymysql.connect(\n",
    "    host = 'localhost',\n",
    "    user = 'root', \n",
    "    password = 'yellow94',\n",
    "    db = 'mydb',\n",
    "    charset = 'utf8'\n",
    ")\n",
    "cursor = db.cursor(pymysql.cursors.DictCursor)\n",
    "\n",
    "sql = \"select * from MLTBL\"\n",
    "cursor.execute(sql)\n",
    "result = cursor.fetchall()\n",
    "df = pd.DataFrame(result)\n",
    "\n",
    "# 2.\n",
    "new_data = {'BUSI_PROFITS':sys.argv[1], 'NET_INCM':sys.argv[2], 'TTL_LIAB':sys.argv[3], 'CREDIT_RNK':float(sys.argv[4])}\n",
    "df2 = df.append(new_data, ignore_index=True)\n",
    "\n",
    "df3 = df2.drop(['INTEREST', 'CREDIT_RNK'], axis=1)\n",
    "scaler = MinMaxScaler(feature_range=(0,1))\n",
    "df3 = scaler.fit_transform(df3)\n",
    "    \n",
    "df3 = pd.DataFrame(data=df3, columns=['BUSI_PROFITS', 'NET_INCM', 'TTL_LIAB'])\n",
    "\n",
    "credit_rnk_col = df2['CREDIT_RNK']\n",
    "interest_col = df2['INTEREST']\n",
    "df3['CREDIT_RNK'] = credit_rnk_col\n",
    "df3['INTEREST'] = interest_col\n",
    "\n",
    "# 3. \n",
    "interest = 1.7 * df3.tail(1).TTL_LIAB + 0.1 * df3.tail(1).CREDIT_RNK + 0.1 * df3.tail(1).BUSI_PROFITS - 1.7 * df3.tail(1).NET_INCM + 1.8907794447627233\n",
    "interest = round(interest, 2)\n",
    "cursor.close()\n",
    "    \n",
    "#return interest\n",
    "print('ttl_liab :', df3.tail(1).TTL_LIAB)\n",
    "print('credit_rnk :', df3.tail(1).CREDIT_RNK)\n",
    "print('busi_profits :', df3.tail(1).BUSI_PROFITS)\n",
    "print('net_incm :', df3.tail(1).NET_INCM)\n",
    "print(interest)\n"
   ]
  }
 ],
 "metadata": {
  "kernelspec": {
   "display_name": "Python 3",
   "language": "python",
   "name": "python3"
  },
  "language_info": {
   "codemirror_mode": {
    "name": "ipython",
    "version": 3
   },
   "file_extension": ".py",
   "mimetype": "text/x-python",
   "name": "python",
   "nbconvert_exporter": "python",
   "pygments_lexer": "ipython3",
   "version": "3.8.5"
  }
 },
 "nbformat": 4,
 "nbformat_minor": 4
}
