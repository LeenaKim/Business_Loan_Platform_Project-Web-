{
 "cells": [
  {
   "cell_type": "code",
   "execution_count": 1,
   "metadata": {},
   "outputs": [],
   "source": [
    "import time\n",
    "from selenium import webdriver\n",
    "import re"
   ]
  },
  {
   "cell_type": "code",
   "execution_count": 2,
   "metadata": {},
   "outputs": [],
   "source": [
    "driver = webdriver.Chrome('/Users/linakim/Downloads/chromedriver')\n",
    "# driver.get('http://www.google.com/xhtml');\n",
    "# time.sleep(5)\n",
    "\n",
    "# search_box = driver.find_element_by_name('q')\n",
    "# search_box.send_keys('ChromeDriver')\n",
    "# search_box.submit()\n",
    "# time.sleep(5)\n",
    "\n",
    "# driver.quit()"
   ]
  },
  {
   "cell_type": "code",
   "execution_count": null,
   "metadata": {},
   "outputs": [],
   "source": [
    "\n",
    "id1 = ['1448208', '1448214', '1448217', '1448218', '1448219', '1448223', '1448164', '1448163', '1448162', '1448161', '1448208', '1448214', '1448217', '1448218', '1448219', '1448223', '1448164', '1448163', '1448162', '1448161', '1448208', '1448214', '1448217', '1448218', '1448219', '1448223', '1448164', '1448163', '1448162', '1448161', '1448208', '1448214', '1448217', '1448218', '1448219', '1448223', '1448164', '1448163', '1448162', '1448161']\n",
    "\n",
    "id2 = []\n",
    "name = []\n",
    "enter = []\n",
    "repay = []\n",
    "goldlee = []\n",
    "molla = []\n",
    "\n",
    "\n",
    "for j in range(len(id1)):\n",
    "  print(j,'실행중')\n",
    "  url = 'https://kebhana.com/cont/mall/mall08/mall0802/mall080206/'+id1[j]+'_131044.jsp?_menuNo=98786'\n",
    "\n",
    "  time.sleep(0.3)\n",
    "    \n",
    "\n",
    "  driver.get(url)\n",
    "  time.sleep(1)\n",
    "  names = driver.find_elements_by_xpath('//*[@id=\"contents\"]/div[2]/h3')\n",
    "  enters = driver.find_elements_by_xpath('//*[@id=\"contents\"]/div[2]/dl/dd[1]/ul/li[1]')\n",
    "  if not enters:\n",
    "    enters = driver.find_elements_by_xpath('/html/body/div[2]/div/div[1]/div[2]/div[2]/div[2]/dl/dd[2]')\n",
    "  repays = driver.find_elements_by_xpath('//*[@id=\"contents\"]/div[2]/dl/dd[6]')\n",
    "  goldlees = driver.find_elements_by_xpath('//*[@id=\"contents\"]/div[2]/dl/dd[2]')\n",
    "  all = driver.find_elements_by_css_selector('#contents > div.mall-detail-content > dl')\n",
    "\n",
    "  id2.append(id1[j])\n",
    "\n",
    "  for i in names:\n",
    "    name.append(i.text.split(\"\\n\")[0])\n",
    "\n",
    "  p = re.compile('[^1-9 ㄱ-ㅣ가-힣 ( \\n]+')\n",
    "  for i in names:\n",
    "    enter.append(p.sub('',i.text.split(\"\\n\")[1]))\n",
    "    \n",
    "\n",
    "\n",
    "  for i in repays:\n",
    "    repay.append(i.text.split('\\n')[0])\n",
    "\n",
    "  try:\n",
    "    for i in all:\n",
    "    \n",
    "      goldlee.append(i.text.split(\"최저\")[1].split('\\n')[0])\n",
    "  except:\n",
    "    if len(i.text.split(\"최저\")[0].split('\\n')[0]) < 5:\n",
    "      goldlee.append(0)\n",
    "    else:\n",
    "      goldlee.append(i.text.split(\"최저\")[0].split('\\n')[0])\n",
    "\n",
    "  try:\n",
    "    for i in all:\n",
    "      if len(i.text.split('대출과목')[1].split('\\n')[1]) < 20:\n",
    "        molla.append(i.text.split('대출과목')[1].split('\\n')[1])\n",
    "      else:\n",
    "        molla.append(0)\n",
    "  except:\n",
    "    molla.append(0)\n",
    "print(len(id2))\n",
    "print(len(name))\n",
    "print(len(enter))\n",
    "print(len(repay))\n",
    "print(len(goldlee))\n",
    "print(len(all))"
   ]
  },
  {
   "cell_type": "code",
   "execution_count": null,
   "metadata": {},
   "outputs": [],
   "source": [
    "print(id1)"
   ]
  },
  {
   "cell_type": "code",
   "execution_count": null,
   "metadata": {},
   "outputs": [],
   "source": [
    "print(id2)"
   ]
  },
  {
   "cell_type": "code",
   "execution_count": null,
   "metadata": {},
   "outputs": [],
   "source": [
    "print(name)"
   ]
  },
  {
   "cell_type": "code",
   "execution_count": null,
   "metadata": {},
   "outputs": [],
   "source": [
    "print(enter)"
   ]
  },
  {
   "cell_type": "code",
   "execution_count": null,
   "metadata": {},
   "outputs": [],
   "source": [
    "print(repay)"
   ]
  },
  {
   "cell_type": "code",
   "execution_count": null,
   "metadata": {},
   "outputs": [],
   "source": [
    "print(goldlee)"
   ]
  },
  {
   "cell_type": "code",
   "execution_count": null,
   "metadata": {},
   "outputs": [],
   "source": [
    "import pandas as pd\n",
    "from pandas import DataFrame as df"
   ]
  },
  {
   "cell_type": "code",
   "execution_count": null,
   "metadata": {},
   "outputs": [],
   "source": [
    "df1 = df(data={'loan_no' : id2, 'name' : name, 'object' : enter, 'repay' : repay, 'interest' : goldlee})"
   ]
  },
  {
   "cell_type": "code",
   "execution_count": null,
   "metadata": {},
   "outputs": [],
   "source": [
    "df1.head()"
   ]
  },
  {
   "cell_type": "code",
   "execution_count": null,
   "metadata": {},
   "outputs": [],
   "source": [
    "df1"
   ]
  },
  {
   "cell_type": "code",
   "execution_count": null,
   "metadata": {},
   "outputs": [],
   "source": [
    "df1.to_excel(\"대출상품.xlsx\", encoding=\"euc-kr\")"
   ]
  },
  {
   "cell_type": "markdown",
   "metadata": {},
   "source": [
    "# 다시, 전체 페이지 크롤링하기"
   ]
  },
  {
   "cell_type": "code",
   "execution_count": 4,
   "metadata": {},
   "outputs": [
    {
     "name": "stdout",
     "output_type": "stream",
     "text": [
      "0 실행중\n"
     ]
    },
    {
     "data": {
      "text/html": [
       "<div>\n",
       "<style scoped>\n",
       "    .dataframe tbody tr th:only-of-type {\n",
       "        vertical-align: middle;\n",
       "    }\n",
       "\n",
       "    .dataframe tbody tr th {\n",
       "        vertical-align: top;\n",
       "    }\n",
       "\n",
       "    .dataframe thead th {\n",
       "        text-align: right;\n",
       "    }\n",
       "</style>\n",
       "<table border=\"1\" class=\"dataframe\">\n",
       "  <thead>\n",
       "    <tr style=\"text-align: right;\">\n",
       "      <th></th>\n",
       "      <th>대출대상</th>\n",
       "      <th>대출과목</th>\n",
       "      <th>대출한도</th>\n",
       "      <th>대출실행방법</th>\n",
       "      <th>대출기간</th>\n",
       "      <th>상환방식</th>\n",
       "      <th>이자계산 방법</th>\n",
       "      <th>원금 또는\\n이자의\\n상환시기 및\\n방법</th>\n",
       "      <th>이용시간</th>\n",
       "      <th>계약해지 또는\\n갱신방법</th>\n",
       "      <th>담보</th>\n",
       "      <th>대출금리</th>\n",
       "      <th>중도상환해약금</th>\n",
       "      <th>대출비용</th>\n",
       "      <th>대출관련비용</th>\n",
       "      <th>관련서 양식</th>\n",
       "      <th>금리인하요구권 대상여부</th>\n",
       "      <th>유의사항</th>\n",
       "      <th>상품내용\\n변경에 관한\\n사항</th>\n",
       "      <th>대출명</th>\n",
       "    </tr>\n",
       "  </thead>\n",
       "  <tbody>\n",
       "    <tr>\n",
       "      <th>0</th>\n",
       "      <td>대상기업 : 선박 및 해양설비를 제작하는 국내기업\\n대상거래 : 선박 및 해양설비 ...</td>\n",
       "      <td>원화대출(운전대) 또는 외화대출(운전자금)</td>\n",
       "      <td>(계약금액 - 기수령선수금) Ⅹ 90% 범위 내</td>\n",
       "      <td>해당 선박의 공정진도율에 따른 분할실행</td>\n",
       "      <td>최초 대출취급일부터 선박 및 해양설비의 인도 · 완료일에 30일을 가산한 기간 내에...</td>\n",
       "      <td>분할상환 또는 일시상환</td>\n",
       "      <td>대출금에 연이율과 대출일수를 곱한 후 이를 365일(윤년인 경우 366일)로 나누어...</td>\n",
       "      <td>건별대출(만기일시상환) : 원금은 만기에 일시상환, 이자는 일정주기(매1개월 등) ...</td>\n",
       "      <td>고객센터의 인터넷뱅킹 이용시간 안내를 참조하시기 바랍니다.바로가기 &gt;</td>\n",
       "      <td>건별대출(만기일시상환) 계약해지 : 고객이 대출금 전액을 상환한 때\\n계약갱신 : ...</td>\n",
       "      <td>선박건조용 원자재 및 건조 중 선박의 양도담보\\n수출대금채권에 대한 양도담보\\n선박...</td>\n",
       "      <td>최저 연 3.777%\\n※ 2017.04.28 현재, 기준금리 1.413(금융채 6...</td>\n",
       "      <td>중도상환해약금 : 중도상환대출금액 X 중도상환해약금율* X 대출잔여일수 ÷ 대출기간...</td>\n",
       "      <td>수입인지(대출금액 5천만원 초과시 인지세의 50% 고객부담)\\n근저당권 설정시 국민...</td>\n",
       "      <td>인지세\\n인지세법에 의해 대출약정 체결시 납부하는 세금으로 대출금액에 따라 세액이 ...</td>\n",
       "      <td>제작자금대출집행신청서 제작자금대출승인신청서</td>\n",
       "      <td>본 상품은 '금리인하요구권'의 신청이 가능합니다.</td>\n",
       "      <td>손님의 신용도에 따라 대출한도, 대출금리가 차등 적용되며 대출취급이 제한될 수 있습...</td>\n",
       "      <td>상품내용 변경에 관한 사항\\n(2019.04.17 변경)\\n&lt;중도상환해약금율 변경&gt;...</td>\n",
       "      <td>제작금융</td>\n",
       "    </tr>\n",
       "  </tbody>\n",
       "</table>\n",
       "</div>"
      ],
      "text/plain": [
       "                                                대출대상                     대출과목  \\\n",
       "0  대상기업 : 선박 및 해양설비를 제작하는 국내기업\\n대상거래 : 선박 및 해양설비 ...  원화대출(운전대) 또는 외화대출(운전자금)   \n",
       "\n",
       "                         대출한도                 대출실행방법  \\\n",
       "0  (계약금액 - 기수령선수금) Ⅹ 90% 범위 내  해당 선박의 공정진도율에 따른 분할실행   \n",
       "\n",
       "                                                대출기간          상환방식  \\\n",
       "0  최초 대출취급일부터 선박 및 해양설비의 인도 · 완료일에 30일을 가산한 기간 내에...  분할상환 또는 일시상환   \n",
       "\n",
       "                                             이자계산 방법  \\\n",
       "0  대출금에 연이율과 대출일수를 곱한 후 이를 365일(윤년인 경우 366일)로 나누어...   \n",
       "\n",
       "                              원금 또는\\n이자의\\n상환시기 및\\n방법  \\\n",
       "0  건별대출(만기일시상환) : 원금은 만기에 일시상환, 이자는 일정주기(매1개월 등) ...   \n",
       "\n",
       "                                     이용시간  \\\n",
       "0  고객센터의 인터넷뱅킹 이용시간 안내를 참조하시기 바랍니다.바로가기 >   \n",
       "\n",
       "                                       계약해지 또는\\n갱신방법  \\\n",
       "0  건별대출(만기일시상환) 계약해지 : 고객이 대출금 전액을 상환한 때\\n계약갱신 : ...   \n",
       "\n",
       "                                                  담보  \\\n",
       "0  선박건조용 원자재 및 건조 중 선박의 양도담보\\n수출대금채권에 대한 양도담보\\n선박...   \n",
       "\n",
       "                                                대출금리  \\\n",
       "0  최저 연 3.777%\\n※ 2017.04.28 현재, 기준금리 1.413(금융채 6...   \n",
       "\n",
       "                                             중도상환해약금  \\\n",
       "0  중도상환해약금 : 중도상환대출금액 X 중도상환해약금율* X 대출잔여일수 ÷ 대출기간...   \n",
       "\n",
       "                                                대출비용  \\\n",
       "0  수입인지(대출금액 5천만원 초과시 인지세의 50% 고객부담)\\n근저당권 설정시 국민...   \n",
       "\n",
       "                                              대출관련비용                   관련서 양식  \\\n",
       "0  인지세\\n인지세법에 의해 대출약정 체결시 납부하는 세금으로 대출금액에 따라 세액이 ...  제작자금대출집행신청서 제작자금대출승인신청서   \n",
       "\n",
       "                  금리인하요구권 대상여부  \\\n",
       "0  본 상품은 '금리인하요구권'의 신청이 가능합니다.   \n",
       "\n",
       "                                                유의사항  \\\n",
       "0  손님의 신용도에 따라 대출한도, 대출금리가 차등 적용되며 대출취급이 제한될 수 있습...   \n",
       "\n",
       "                                    상품내용\\n변경에 관한\\n사항   대출명  \n",
       "0  상품내용 변경에 관한 사항\\n(2019.04.17 변경)\\n<중도상환해약금율 변경>...  제작금융  "
      ]
     },
     "execution_count": 4,
     "metadata": {},
     "output_type": "execute_result"
    }
   ],
   "source": [
    "import time\n",
    "from selenium import webdriver\n",
    "import re\n",
    "import pandas as pd\n",
    "\n",
    "id1 = ['1448208']\n",
    "id2=[]\n",
    "dt = []\n",
    "dd = []\n",
    "\n",
    "\n",
    "\n",
    "for j in range(len(id1[:1])):\n",
    "  print(j,'실행중')\n",
    "  url = 'https://kebhana.com/cont/mall/mall08/mall0802/mall080206/'+id1[j]+'_131044.jsp?_menuNo=98786'\n",
    "\n",
    "  time.sleep(0.3)\n",
    "    \n",
    "\n",
    "\n",
    "\n",
    "  driver.get(url)\n",
    "  time.sleep(1)\n",
    "  names = driver.find_elements_by_xpath('//*[@id=\"contents\"]/div[2]/h3')\n",
    "\n",
    "  adt = driver.find_elements_by_css_selector('#contents > div.mall-detail-content > dl > dt')\n",
    "  add = driver.find_elements_by_css_selector('#contents > div.mall-detail-content > dl > dd')\n",
    "\n",
    "  id2.append(id1[j])\n",
    "\n",
    "\n",
    "\n",
    "  p = re.compile('[^1-9 ㄱ-ㅣ가-힣 ( \\n]+')\n",
    "\n",
    "\n",
    "  for i in adt:\n",
    "    dt.append(i.text)\n",
    "\n",
    "  dt.append('대출명')\n",
    "\n",
    "\n",
    "  for i in add:\n",
    "  \n",
    "    dd.append(i.text)\n",
    "\n",
    "  for i in names:\n",
    "    dd.append(i.text.split(\"\\n\")[0])\n",
    "\n",
    "\n",
    "df=pd.DataFrame(dd)\n",
    "df=df.T\n",
    "df.columns=dt\n",
    "df\n"
   ]
  },
  {
   "cell_type": "code",
   "execution_count": 5,
   "metadata": {},
   "outputs": [
    {
     "name": "stdout",
     "output_type": "stream",
     "text": [
      "0 실행중\n",
      "1 실행중\n",
      "2 실행중\n",
      "3 실행중\n",
      "4 실행중\n",
      "5 실행중\n",
      "6 실행중\n",
      "7 실행중\n",
      "8 실행중\n",
      "9 실행중\n",
      "10 실행중\n",
      "11 실행중\n"
     ]
    },
    {
     "ename": "ValueError",
     "evalue": "Length mismatch: Expected axis has 19 elements, new values have 21 elements",
     "output_type": "error",
     "traceback": [
      "\u001b[0;31m---------------------------------------------------------------------------\u001b[0m",
      "\u001b[0;31mValueError\u001b[0m                                Traceback (most recent call last)",
      "\u001b[0;32m<ipython-input-5-9716fd90a1e3>\u001b[0m in \u001b[0;36m<module>\u001b[0;34m\u001b[0m\n\u001b[1;32m     46\u001b[0m   \u001b[0mdf2\u001b[0m\u001b[0;34m=\u001b[0m\u001b[0mpd\u001b[0m\u001b[0;34m.\u001b[0m\u001b[0mDataFrame\u001b[0m\u001b[0;34m(\u001b[0m\u001b[0mdd\u001b[0m\u001b[0;34m)\u001b[0m\u001b[0;34m\u001b[0m\u001b[0;34m\u001b[0m\u001b[0m\n\u001b[1;32m     47\u001b[0m   \u001b[0mdf2\u001b[0m\u001b[0;34m=\u001b[0m\u001b[0mdf2\u001b[0m\u001b[0;34m.\u001b[0m\u001b[0mT\u001b[0m\u001b[0;34m\u001b[0m\u001b[0;34m\u001b[0m\u001b[0m\n\u001b[0;32m---> 48\u001b[0;31m   \u001b[0mdf2\u001b[0m\u001b[0;34m.\u001b[0m\u001b[0mcolumns\u001b[0m\u001b[0;34m=\u001b[0m\u001b[0mdt\u001b[0m\u001b[0;34m\u001b[0m\u001b[0;34m\u001b[0m\u001b[0m\n\u001b[0m\u001b[1;32m     49\u001b[0m   \u001b[0mdf\u001b[0m\u001b[0;34m=\u001b[0m \u001b[0mpd\u001b[0m\u001b[0;34m.\u001b[0m\u001b[0mconcat\u001b[0m\u001b[0;34m(\u001b[0m\u001b[0;34m[\u001b[0m\u001b[0mdf\u001b[0m\u001b[0;34m,\u001b[0m \u001b[0mdf2\u001b[0m\u001b[0;34m]\u001b[0m\u001b[0;34m)\u001b[0m\u001b[0;34m\u001b[0m\u001b[0;34m\u001b[0m\u001b[0m\n\u001b[1;32m     50\u001b[0m \u001b[0mdf\u001b[0m\u001b[0;34m\u001b[0m\u001b[0;34m\u001b[0m\u001b[0m\n",
      "\u001b[0;32m/usr/local/lib/python3.7/site-packages/pandas/core/generic.py\u001b[0m in \u001b[0;36m__setattr__\u001b[0;34m(self, name, value)\u001b[0m\n\u001b[1;32m   5285\u001b[0m         \u001b[0;32mtry\u001b[0m\u001b[0;34m:\u001b[0m\u001b[0;34m\u001b[0m\u001b[0;34m\u001b[0m\u001b[0m\n\u001b[1;32m   5286\u001b[0m             \u001b[0mobject\u001b[0m\u001b[0;34m.\u001b[0m\u001b[0m__getattribute__\u001b[0m\u001b[0;34m(\u001b[0m\u001b[0mself\u001b[0m\u001b[0;34m,\u001b[0m \u001b[0mname\u001b[0m\u001b[0;34m)\u001b[0m\u001b[0;34m\u001b[0m\u001b[0;34m\u001b[0m\u001b[0m\n\u001b[0;32m-> 5287\u001b[0;31m             \u001b[0;32mreturn\u001b[0m \u001b[0mobject\u001b[0m\u001b[0;34m.\u001b[0m\u001b[0m__setattr__\u001b[0m\u001b[0;34m(\u001b[0m\u001b[0mself\u001b[0m\u001b[0;34m,\u001b[0m \u001b[0mname\u001b[0m\u001b[0;34m,\u001b[0m \u001b[0mvalue\u001b[0m\u001b[0;34m)\u001b[0m\u001b[0;34m\u001b[0m\u001b[0;34m\u001b[0m\u001b[0m\n\u001b[0m\u001b[1;32m   5288\u001b[0m         \u001b[0;32mexcept\u001b[0m \u001b[0mAttributeError\u001b[0m\u001b[0;34m:\u001b[0m\u001b[0;34m\u001b[0m\u001b[0;34m\u001b[0m\u001b[0m\n\u001b[1;32m   5289\u001b[0m             \u001b[0;32mpass\u001b[0m\u001b[0;34m\u001b[0m\u001b[0;34m\u001b[0m\u001b[0m\n",
      "\u001b[0;32mpandas/_libs/properties.pyx\u001b[0m in \u001b[0;36mpandas._libs.properties.AxisProperty.__set__\u001b[0;34m()\u001b[0m\n",
      "\u001b[0;32m/usr/local/lib/python3.7/site-packages/pandas/core/generic.py\u001b[0m in \u001b[0;36m_set_axis\u001b[0;34m(self, axis, labels)\u001b[0m\n\u001b[1;32m    659\u001b[0m \u001b[0;34m\u001b[0m\u001b[0m\n\u001b[1;32m    660\u001b[0m     \u001b[0;32mdef\u001b[0m \u001b[0m_set_axis\u001b[0m\u001b[0;34m(\u001b[0m\u001b[0mself\u001b[0m\u001b[0;34m,\u001b[0m \u001b[0maxis\u001b[0m\u001b[0;34m,\u001b[0m \u001b[0mlabels\u001b[0m\u001b[0;34m)\u001b[0m \u001b[0;34m->\u001b[0m \u001b[0;32mNone\u001b[0m\u001b[0;34m:\u001b[0m\u001b[0;34m\u001b[0m\u001b[0;34m\u001b[0m\u001b[0m\n\u001b[0;32m--> 661\u001b[0;31m         \u001b[0mself\u001b[0m\u001b[0;34m.\u001b[0m\u001b[0m_data\u001b[0m\u001b[0;34m.\u001b[0m\u001b[0mset_axis\u001b[0m\u001b[0;34m(\u001b[0m\u001b[0maxis\u001b[0m\u001b[0;34m,\u001b[0m \u001b[0mlabels\u001b[0m\u001b[0;34m)\u001b[0m\u001b[0;34m\u001b[0m\u001b[0;34m\u001b[0m\u001b[0m\n\u001b[0m\u001b[1;32m    662\u001b[0m         \u001b[0mself\u001b[0m\u001b[0;34m.\u001b[0m\u001b[0m_clear_item_cache\u001b[0m\u001b[0;34m(\u001b[0m\u001b[0;34m)\u001b[0m\u001b[0;34m\u001b[0m\u001b[0;34m\u001b[0m\u001b[0m\n\u001b[1;32m    663\u001b[0m \u001b[0;34m\u001b[0m\u001b[0m\n",
      "\u001b[0;32m/usr/local/lib/python3.7/site-packages/pandas/core/internals/managers.py\u001b[0m in \u001b[0;36mset_axis\u001b[0;34m(self, axis, new_labels)\u001b[0m\n\u001b[1;32m    176\u001b[0m         \u001b[0;32mif\u001b[0m \u001b[0mnew_len\u001b[0m \u001b[0;34m!=\u001b[0m \u001b[0mold_len\u001b[0m\u001b[0;34m:\u001b[0m\u001b[0;34m\u001b[0m\u001b[0;34m\u001b[0m\u001b[0m\n\u001b[1;32m    177\u001b[0m             raise ValueError(\n\u001b[0;32m--> 178\u001b[0;31m                 \u001b[0;34mf\"Length mismatch: Expected axis has {old_len} elements, new \"\u001b[0m\u001b[0;34m\u001b[0m\u001b[0;34m\u001b[0m\u001b[0m\n\u001b[0m\u001b[1;32m    179\u001b[0m                 \u001b[0;34mf\"values have {new_len} elements\"\u001b[0m\u001b[0;34m\u001b[0m\u001b[0;34m\u001b[0m\u001b[0m\n\u001b[1;32m    180\u001b[0m             )\n",
      "\u001b[0;31mValueError\u001b[0m: Length mismatch: Expected axis has 19 elements, new values have 21 elements"
     ]
    }
   ],
   "source": [
    "\n",
    "#id1 = ['1448214', '1448217', '1448218', '1448219', '1448223', '1448164', '1448163', '1448162', '1448161', '1448208', '1448214', '1448217', '1448218', '1448219', '1448223', '1448164', '1448163', '1448162', '1448161', '1448208', '1448214', '1448217', '1448218', '1448219', '1448223', '1448164', '1448163', '1448162', '1448161', '1448208', '1448214', '1448217', '1448218', '1448219', '1448223', '1448164', '1448163', '1448162', '1448161']\n",
    "id1 = ['1448214', '1448217', '1448218', '1448219', '1448223', '1448164', '1448163', '1448162', '1448161', '1448160', '1448159', '1448155', '1448154', '1448153', '1448152', '1447431', '1450483', '1450484', '1443595', '1459714', '1459715', '1459717', '1459722', '1443580', '1459713', '1461180', '1461179', '1461177', '1461176', '1461175', '1461174', '1466310', '1461172', '1461171', '1461166', '1461158', '1461157', '1461156', '1463642']\n",
    "\n",
    "\n",
    "\n",
    "for j in range(len(id1)):\n",
    "  print(j,'실행중')\n",
    "  url = 'https://kebhana.com/cont/mall/mall08/mall0802/mall080206/'+id1[j]+'_131044.jsp?_menuNo=98786'\n",
    "  dt = []\n",
    "  dd = []\n",
    "  name = []\n",
    "\n",
    "  time.sleep(0.3)\n",
    "    \n",
    "\n",
    "\n",
    "\n",
    "  driver.get(url)\n",
    "  time.sleep(1)\n",
    "  names = driver.find_elements_by_xpath('//*[@id=\"contents\"]/div[2]/h3')\n",
    "\n",
    "  adt = driver.find_elements_by_css_selector('#contents > div.mall-detail-content > dl > dt')\n",
    "  add = driver.find_elements_by_css_selector('#contents > div.mall-detail-content > dl > dd')\n",
    "\n",
    "  id2.append(id1[j])\n",
    "\n",
    "\n",
    "\n",
    "  p = re.compile('[^1-9 ㄱ-ㅣ가-힣 ( \\n]+')\n",
    "\n",
    "\n",
    "  for i in adt:\n",
    "    dt.append(i.text)\n",
    "\n",
    "  dt.append('대출명')\n",
    "\n",
    "\n",
    "  for i in add:\n",
    "  \n",
    "    dd.append(i.text)\n",
    "\n",
    "  for i in names:\n",
    "    dd.append(i.text.split(\"\\n\")[0])\n",
    "\n",
    "\n",
    "  df2=pd.DataFrame(dd)\n",
    "  df2=df2.T\n",
    "  df2.columns=dt\n",
    "  df= pd.concat([df, df2])\n",
    "df"
   ]
  },
  {
   "cell_type": "code",
   "execution_count": null,
   "metadata": {},
   "outputs": [],
   "source": [
    "df.to_excel('대출상품_v2.xlsx', encoding='euc-kr')"
   ]
  },
  {
   "cell_type": "code",
   "execution_count": null,
   "metadata": {},
   "outputs": [],
   "source": []
  }
 ],
 "metadata": {
  "kernelspec": {
   "display_name": "Python 3",
   "language": "python",
   "name": "python3"
  },
  "language_info": {
   "codemirror_mode": {
    "name": "ipython",
    "version": 3
   },
   "file_extension": ".py",
   "mimetype": "text/x-python",
   "name": "python",
   "nbconvert_exporter": "python",
   "pygments_lexer": "ipython3",
   "version": "3.7.7"
  }
 },
 "nbformat": 4,
 "nbformat_minor": 4
}
